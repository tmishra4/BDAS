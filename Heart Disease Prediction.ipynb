{
 "cells": [
  {
   "cell_type": "code",
   "execution_count": 2,
   "metadata": {},
   "outputs": [],
   "source": [
    "# Section must be included at the beginning of each new notebook. Remember to change the app name. \n",
    "# If you're using VirtualBox, change the below to '/home/user/spark-2.1.1-bin-hadoop2.7'\n",
    "import pandas as pd\n",
    "import matplotlib.pyplot as plt\n",
    "import numpy as np\n",
    "\n",
    "import findspark\n",
    "findspark.init('/home/ubuntu/spark-2.1.1-bin-hadoop2.7')\n",
    "import pyspark\n",
    "from pyspark.sql import SparkSession\n",
    "spark = SparkSession.builder.appName('basics').getOrCreate()"
   ]
  },
  {
   "cell_type": "code",
   "execution_count": 3,
   "metadata": {},
   "outputs": [],
   "source": [
    "# import the data and see the basic description\n",
    "\n",
    "df = spark.read.csv('processed.cleveland.csv',header=True,inferSchema=True)"
   ]
  },
  {
   "cell_type": "code",
   "execution_count": 4,
   "metadata": {},
   "outputs": [
    {
     "data": {
      "text/plain": [
       "302"
      ]
     },
     "execution_count": 4,
     "metadata": {},
     "output_type": "execute_result"
    }
   ],
   "source": [
    "df.count()"
   ]
  },
  {
   "cell_type": "code",
   "execution_count": 5,
   "metadata": {},
   "outputs": [
    {
     "name": "stdout",
     "output_type": "stream",
     "text": [
      "root\n",
      " |-- _c0: integer (nullable = true)\n",
      " |-- X63.0: integer (nullable = true)\n",
      " |-- X1.0: integer (nullable = true)\n",
      " |-- X1.0.1: integer (nullable = true)\n",
      " |-- X145.0: integer (nullable = true)\n",
      " |-- X233.0: integer (nullable = true)\n",
      " |-- X1.0.2: integer (nullable = true)\n",
      " |-- X2.0: integer (nullable = true)\n",
      " |-- X150.0: integer (nullable = true)\n",
      " |-- X0.0: integer (nullable = true)\n",
      " |-- X2.3: double (nullable = true)\n",
      " |-- X3.0: integer (nullable = true)\n",
      " |-- X0.0.1: string (nullable = true)\n",
      " |-- X6.0: string (nullable = true)\n",
      " |-- X0: integer (nullable = true)\n",
      "\n"
     ]
    }
   ],
   "source": [
    "df.printSchema()"
   ]
  },
  {
   "cell_type": "code",
   "execution_count": 6,
   "metadata": {},
   "outputs": [],
   "source": [
    "# set the column names in order (\"age\", \"sex\", \"cp\", \"trestbps\", \"chol\",\"fbs\", \"restecg\",\"thalach\",\"exang\", \"oldpeak\",\"slope\", \"ca\", \"thal\", \"num\")\n",
    "df = df.withColumnRenamed(df.columns[0], 'recordid')\n",
    "df = df.withColumnRenamed(df.columns[1], 'age')\n",
    "df = df.withColumnRenamed(df.columns[2], 'sex')\n",
    "df = df.withColumnRenamed(df.columns[3], 'chest_pain')\n",
    "df = df.withColumnRenamed(df.columns[4], 'blood_pressure')\n",
    "df = df.withColumnRenamed(df.columns[5], 'serum_cholestoral')\n",
    "df = df.withColumnRenamed(df.columns[6], 'fasting_blood_sugar')\n",
    "df = df.withColumnRenamed(df.columns[7], 'electrocardiographic')\n",
    "df = df.withColumnRenamed(df.columns[8], 'max_heart_rate')\n",
    "df = df.withColumnRenamed(df.columns[9], 'induced_angina')\n",
    "df = df.withColumnRenamed(df.columns[10], 'ST_depression')\n",
    "df = df.withColumnRenamed(df.columns[11], 'slope')\n",
    "df = df.withColumnRenamed(df.columns[12], 'vessels')\n",
    "df = df.withColumnRenamed(df.columns[13], 'thal')\n",
    "df = df.withColumnRenamed(df.columns[14], 'diagnosis')\n"
   ]
  },
  {
   "cell_type": "code",
   "execution_count": 6,
   "metadata": {},
   "outputs": [
    {
     "name": "stdout",
     "output_type": "stream",
     "text": [
      "root\n",
      " |-- recordid: integer (nullable = true)\n",
      " |-- age: integer (nullable = true)\n",
      " |-- sex: integer (nullable = true)\n",
      " |-- chest_pain: integer (nullable = true)\n",
      " |-- blood_pressure: integer (nullable = true)\n",
      " |-- serum_cholestoral: integer (nullable = true)\n",
      " |-- fasting_blood_sugar: integer (nullable = true)\n",
      " |-- electrocardiographic: integer (nullable = true)\n",
      " |-- max_heart_rate: integer (nullable = true)\n",
      " |-- induced_angina: integer (nullable = true)\n",
      " |-- ST_depression: double (nullable = true)\n",
      " |-- slope: integer (nullable = true)\n",
      " |-- vessels: string (nullable = true)\n",
      " |-- thal: string (nullable = true)\n",
      " |-- diagnosis: integer (nullable = true)\n",
      "\n"
     ]
    }
   ],
   "source": [
    "df.printSchema()"
   ]
  },
  {
   "cell_type": "code",
   "execution_count": 7,
   "metadata": {},
   "outputs": [
    {
     "data": {
      "text/html": [
       "<div>\n",
       "<style scoped>\n",
       "    .dataframe tbody tr th:only-of-type {\n",
       "        vertical-align: middle;\n",
       "    }\n",
       "\n",
       "    .dataframe tbody tr th {\n",
       "        vertical-align: top;\n",
       "    }\n",
       "\n",
       "    .dataframe thead th {\n",
       "        text-align: right;\n",
       "    }\n",
       "</style>\n",
       "<table border=\"1\" class=\"dataframe\">\n",
       "  <thead>\n",
       "    <tr style=\"text-align: right;\">\n",
       "      <th></th>\n",
       "      <th>recordid</th>\n",
       "      <th>age</th>\n",
       "      <th>sex</th>\n",
       "      <th>chest_pain</th>\n",
       "      <th>blood_pressure</th>\n",
       "      <th>serum_cholestoral</th>\n",
       "      <th>fasting_blood_sugar</th>\n",
       "      <th>electrocardiographic</th>\n",
       "      <th>max_heart_rate</th>\n",
       "      <th>induced_angina</th>\n",
       "      <th>ST_depression</th>\n",
       "      <th>slope</th>\n",
       "      <th>diagnosis</th>\n",
       "    </tr>\n",
       "  </thead>\n",
       "  <tbody>\n",
       "    <tr>\n",
       "      <th>count</th>\n",
       "      <td>302.000000</td>\n",
       "      <td>302.000000</td>\n",
       "      <td>302.000000</td>\n",
       "      <td>302.000000</td>\n",
       "      <td>302.000000</td>\n",
       "      <td>302.000000</td>\n",
       "      <td>302.000000</td>\n",
       "      <td>302.000000</td>\n",
       "      <td>302.000000</td>\n",
       "      <td>302.000000</td>\n",
       "      <td>302.000000</td>\n",
       "      <td>302.000000</td>\n",
       "      <td>302.000000</td>\n",
       "    </tr>\n",
       "    <tr>\n",
       "      <th>mean</th>\n",
       "      <td>151.500000</td>\n",
       "      <td>54.410596</td>\n",
       "      <td>0.678808</td>\n",
       "      <td>3.165563</td>\n",
       "      <td>131.645695</td>\n",
       "      <td>246.738411</td>\n",
       "      <td>0.145695</td>\n",
       "      <td>0.986755</td>\n",
       "      <td>149.605960</td>\n",
       "      <td>0.327815</td>\n",
       "      <td>1.035430</td>\n",
       "      <td>1.596026</td>\n",
       "      <td>0.940397</td>\n",
       "    </tr>\n",
       "    <tr>\n",
       "      <th>std</th>\n",
       "      <td>87.324109</td>\n",
       "      <td>9.040163</td>\n",
       "      <td>0.467709</td>\n",
       "      <td>0.953612</td>\n",
       "      <td>17.612202</td>\n",
       "      <td>51.856829</td>\n",
       "      <td>0.353386</td>\n",
       "      <td>0.994916</td>\n",
       "      <td>22.912959</td>\n",
       "      <td>0.470196</td>\n",
       "      <td>1.160723</td>\n",
       "      <td>0.611939</td>\n",
       "      <td>1.229384</td>\n",
       "    </tr>\n",
       "    <tr>\n",
       "      <th>min</th>\n",
       "      <td>1.000000</td>\n",
       "      <td>29.000000</td>\n",
       "      <td>0.000000</td>\n",
       "      <td>1.000000</td>\n",
       "      <td>94.000000</td>\n",
       "      <td>126.000000</td>\n",
       "      <td>0.000000</td>\n",
       "      <td>0.000000</td>\n",
       "      <td>71.000000</td>\n",
       "      <td>0.000000</td>\n",
       "      <td>0.000000</td>\n",
       "      <td>1.000000</td>\n",
       "      <td>0.000000</td>\n",
       "    </tr>\n",
       "    <tr>\n",
       "      <th>25%</th>\n",
       "      <td>76.250000</td>\n",
       "      <td>48.000000</td>\n",
       "      <td>0.000000</td>\n",
       "      <td>3.000000</td>\n",
       "      <td>120.000000</td>\n",
       "      <td>211.000000</td>\n",
       "      <td>0.000000</td>\n",
       "      <td>0.000000</td>\n",
       "      <td>133.250000</td>\n",
       "      <td>0.000000</td>\n",
       "      <td>0.000000</td>\n",
       "      <td>1.000000</td>\n",
       "      <td>0.000000</td>\n",
       "    </tr>\n",
       "    <tr>\n",
       "      <th>50%</th>\n",
       "      <td>151.500000</td>\n",
       "      <td>55.500000</td>\n",
       "      <td>1.000000</td>\n",
       "      <td>3.000000</td>\n",
       "      <td>130.000000</td>\n",
       "      <td>241.500000</td>\n",
       "      <td>0.000000</td>\n",
       "      <td>0.500000</td>\n",
       "      <td>153.000000</td>\n",
       "      <td>0.000000</td>\n",
       "      <td>0.800000</td>\n",
       "      <td>2.000000</td>\n",
       "      <td>0.000000</td>\n",
       "    </tr>\n",
       "    <tr>\n",
       "      <th>75%</th>\n",
       "      <td>226.750000</td>\n",
       "      <td>61.000000</td>\n",
       "      <td>1.000000</td>\n",
       "      <td>4.000000</td>\n",
       "      <td>140.000000</td>\n",
       "      <td>275.000000</td>\n",
       "      <td>0.000000</td>\n",
       "      <td>2.000000</td>\n",
       "      <td>166.000000</td>\n",
       "      <td>1.000000</td>\n",
       "      <td>1.600000</td>\n",
       "      <td>2.000000</td>\n",
       "      <td>2.000000</td>\n",
       "    </tr>\n",
       "    <tr>\n",
       "      <th>max</th>\n",
       "      <td>302.000000</td>\n",
       "      <td>77.000000</td>\n",
       "      <td>1.000000</td>\n",
       "      <td>4.000000</td>\n",
       "      <td>200.000000</td>\n",
       "      <td>564.000000</td>\n",
       "      <td>1.000000</td>\n",
       "      <td>2.000000</td>\n",
       "      <td>202.000000</td>\n",
       "      <td>1.000000</td>\n",
       "      <td>6.200000</td>\n",
       "      <td>3.000000</td>\n",
       "      <td>4.000000</td>\n",
       "    </tr>\n",
       "  </tbody>\n",
       "</table>\n",
       "</div>"
      ],
      "text/plain": [
       "         recordid         age         sex  chest_pain  blood_pressure  \\\n",
       "count  302.000000  302.000000  302.000000  302.000000      302.000000   \n",
       "mean   151.500000   54.410596    0.678808    3.165563      131.645695   \n",
       "std     87.324109    9.040163    0.467709    0.953612       17.612202   \n",
       "min      1.000000   29.000000    0.000000    1.000000       94.000000   \n",
       "25%     76.250000   48.000000    0.000000    3.000000      120.000000   \n",
       "50%    151.500000   55.500000    1.000000    3.000000      130.000000   \n",
       "75%    226.750000   61.000000    1.000000    4.000000      140.000000   \n",
       "max    302.000000   77.000000    1.000000    4.000000      200.000000   \n",
       "\n",
       "       serum_cholestoral  fasting_blood_sugar  electrocardiographic  \\\n",
       "count         302.000000           302.000000            302.000000   \n",
       "mean          246.738411             0.145695              0.986755   \n",
       "std            51.856829             0.353386              0.994916   \n",
       "min           126.000000             0.000000              0.000000   \n",
       "25%           211.000000             0.000000              0.000000   \n",
       "50%           241.500000             0.000000              0.500000   \n",
       "75%           275.000000             0.000000              2.000000   \n",
       "max           564.000000             1.000000              2.000000   \n",
       "\n",
       "       max_heart_rate  induced_angina  ST_depression       slope   diagnosis  \n",
       "count      302.000000      302.000000     302.000000  302.000000  302.000000  \n",
       "mean       149.605960        0.327815       1.035430    1.596026    0.940397  \n",
       "std         22.912959        0.470196       1.160723    0.611939    1.229384  \n",
       "min         71.000000        0.000000       0.000000    1.000000    0.000000  \n",
       "25%        133.250000        0.000000       0.000000    1.000000    0.000000  \n",
       "50%        153.000000        0.000000       0.800000    2.000000    0.000000  \n",
       "75%        166.000000        1.000000       1.600000    2.000000    2.000000  \n",
       "max        202.000000        1.000000       6.200000    3.000000    4.000000  "
      ]
     },
     "execution_count": 7,
     "metadata": {},
     "output_type": "execute_result"
    }
   ],
   "source": [
    "# convert the dataframe into pandas dataframe and look for standard summary.\n",
    "df.pd = pd.DataFrame(df.take(302), columns=df.columns)\n",
    "df.pd.describe()"
   ]
  },
  {
   "cell_type": "code",
   "execution_count": 13,
   "metadata": {},
   "outputs": [
    {
     "name": "stdout",
     "output_type": "stream",
     "text": [
      "recordid                0\n",
      "age                     0\n",
      "sex                     0\n",
      "chest_pain              0\n",
      "blood_pressure          0\n",
      "serum_cholestoral       0\n",
      "fasting_blood_sugar     0\n",
      "electrocardiographic    0\n",
      "max_heart_rate          0\n",
      "induced_angina          0\n",
      "ST_depression           0\n",
      "slope                   0\n",
      "vessels                 0\n",
      "thal                    0\n",
      "diagnosis               0\n",
      "dtype: int64\n"
     ]
    }
   ],
   "source": [
    "# Ckeck if we have null values for any attributes\n",
    "print(df.pd.isnull().sum())"
   ]
  },
  {
   "cell_type": "code",
   "execution_count": 14,
   "metadata": {},
   "outputs": [
    {
     "name": "stderr",
     "output_type": "stream",
     "text": [
      "/home/ubuntu/.local/lib/python3.5/site-packages/IPython/core/interactiveshell.py:2963: UserWarning: To output multiple subplots, the figure containing the passed axes is being cleared\n",
      "  exec(code_obj, self.user_global_ns, self.user_ns)\n"
     ]
    },
    {
     "data": {
      "image/png": "[encoded data removed]",
      "text/plain": [
       "<Figure size 1080x1080 with 16 Axes>"
      ]
     },
     "metadata": {},
     "output_type": "display_data"
    }
   ],
   "source": [
    "# get the histogram of every data points\n",
    "fig = plt.figure(figsize = (15,15))\n",
    "ax = fig.gca()\n",
    "df.pd.hist(ax=ax,bins=30)\n",
    "plt.show()"
   ]
  },
  {
   "cell_type": "code",
   "execution_count": 15,
   "metadata": {
    "scrolled": true
   },
   "outputs": [
    {
     "data": {
      "text/html": [
       "<div>\n",
       "<style scoped>\n",
       "    .dataframe tbody tr th:only-of-type {\n",
       "        vertical-align: middle;\n",
       "    }\n",
       "\n",
       "    .dataframe tbody tr th {\n",
       "        vertical-align: top;\n",
       "    }\n",
       "\n",
       "    .dataframe thead th {\n",
       "        text-align: right;\n",
       "    }\n",
       "</style>\n",
       "<table border=\"1\" class=\"dataframe\">\n",
       "  <thead>\n",
       "    <tr style=\"text-align: right;\">\n",
       "      <th></th>\n",
       "      <th>recordid</th>\n",
       "      <th>age</th>\n",
       "      <th>sex</th>\n",
       "      <th>chest_pain</th>\n",
       "      <th>blood_pressure</th>\n",
       "      <th>serum_cholestoral</th>\n",
       "      <th>fasting_blood_sugar</th>\n",
       "      <th>electrocardiographic</th>\n",
       "      <th>max_heart_rate</th>\n",
       "      <th>induced_angina</th>\n",
       "      <th>ST_depression</th>\n",
       "      <th>slope</th>\n",
       "      <th>diagnosis</th>\n",
       "    </tr>\n",
       "  </thead>\n",
       "  <tbody>\n",
       "    <tr>\n",
       "      <th>count</th>\n",
       "      <td>302.000000</td>\n",
       "      <td>302.000000</td>\n",
       "      <td>302.000000</td>\n",
       "      <td>302.000000</td>\n",
       "      <td>302.000000</td>\n",
       "      <td>302.000000</td>\n",
       "      <td>302.000000</td>\n",
       "      <td>302.000000</td>\n",
       "      <td>302.000000</td>\n",
       "      <td>302.000000</td>\n",
       "      <td>302.000000</td>\n",
       "      <td>302.000000</td>\n",
       "      <td>302.000000</td>\n",
       "    </tr>\n",
       "    <tr>\n",
       "      <th>mean</th>\n",
       "      <td>151.500000</td>\n",
       "      <td>54.410596</td>\n",
       "      <td>0.678808</td>\n",
       "      <td>3.165563</td>\n",
       "      <td>131.645695</td>\n",
       "      <td>246.738411</td>\n",
       "      <td>0.145695</td>\n",
       "      <td>0.986755</td>\n",
       "      <td>149.605960</td>\n",
       "      <td>0.327815</td>\n",
       "      <td>1.035430</td>\n",
       "      <td>1.596026</td>\n",
       "      <td>0.940397</td>\n",
       "    </tr>\n",
       "    <tr>\n",
       "      <th>std</th>\n",
       "      <td>87.324109</td>\n",
       "      <td>9.040163</td>\n",
       "      <td>0.467709</td>\n",
       "      <td>0.953612</td>\n",
       "      <td>17.612202</td>\n",
       "      <td>51.856829</td>\n",
       "      <td>0.353386</td>\n",
       "      <td>0.994916</td>\n",
       "      <td>22.912959</td>\n",
       "      <td>0.470196</td>\n",
       "      <td>1.160723</td>\n",
       "      <td>0.611939</td>\n",
       "      <td>1.229384</td>\n",
       "    </tr>\n",
       "    <tr>\n",
       "      <th>min</th>\n",
       "      <td>1.000000</td>\n",
       "      <td>29.000000</td>\n",
       "      <td>0.000000</td>\n",
       "      <td>1.000000</td>\n",
       "      <td>94.000000</td>\n",
       "      <td>126.000000</td>\n",
       "      <td>0.000000</td>\n",
       "      <td>0.000000</td>\n",
       "      <td>71.000000</td>\n",
       "      <td>0.000000</td>\n",
       "      <td>0.000000</td>\n",
       "      <td>1.000000</td>\n",
       "      <td>0.000000</td>\n",
       "    </tr>\n",
       "    <tr>\n",
       "      <th>25%</th>\n",
       "      <td>76.250000</td>\n",
       "      <td>48.000000</td>\n",
       "      <td>0.000000</td>\n",
       "      <td>3.000000</td>\n",
       "      <td>120.000000</td>\n",
       "      <td>211.000000</td>\n",
       "      <td>0.000000</td>\n",
       "      <td>0.000000</td>\n",
       "      <td>133.250000</td>\n",
       "      <td>0.000000</td>\n",
       "      <td>0.000000</td>\n",
       "      <td>1.000000</td>\n",
       "      <td>0.000000</td>\n",
       "    </tr>\n",
       "    <tr>\n",
       "      <th>50%</th>\n",
       "      <td>151.500000</td>\n",
       "      <td>55.500000</td>\n",
       "      <td>1.000000</td>\n",
       "      <td>3.000000</td>\n",
       "      <td>130.000000</td>\n",
       "      <td>241.500000</td>\n",
       "      <td>0.000000</td>\n",
       "      <td>0.500000</td>\n",
       "      <td>153.000000</td>\n",
       "      <td>0.000000</td>\n",
       "      <td>0.800000</td>\n",
       "      <td>2.000000</td>\n",
       "      <td>0.000000</td>\n",
       "    </tr>\n",
       "    <tr>\n",
       "      <th>75%</th>\n",
       "      <td>226.750000</td>\n",
       "      <td>61.000000</td>\n",
       "      <td>1.000000</td>\n",
       "      <td>4.000000</td>\n",
       "      <td>140.000000</td>\n",
       "      <td>275.000000</td>\n",
       "      <td>0.000000</td>\n",
       "      <td>2.000000</td>\n",
       "      <td>166.000000</td>\n",
       "      <td>1.000000</td>\n",
       "      <td>1.600000</td>\n",
       "      <td>2.000000</td>\n",
       "      <td>2.000000</td>\n",
       "    </tr>\n",
       "    <tr>\n",
       "      <th>max</th>\n",
       "      <td>302.000000</td>\n",
       "      <td>77.000000</td>\n",
       "      <td>1.000000</td>\n",
       "      <td>4.000000</td>\n",
       "      <td>200.000000</td>\n",
       "      <td>564.000000</td>\n",
       "      <td>1.000000</td>\n",
       "      <td>2.000000</td>\n",
       "      <td>202.000000</td>\n",
       "      <td>1.000000</td>\n",
       "      <td>6.200000</td>\n",
       "      <td>3.000000</td>\n",
       "      <td>4.000000</td>\n",
       "    </tr>\n",
       "  </tbody>\n",
       "</table>\n",
       "</div>"
      ],
      "text/plain": [
       "         recordid         age         sex  chest_pain  blood_pressure  \\\n",
       "count  302.000000  302.000000  302.000000  302.000000      302.000000   \n",
       "mean   151.500000   54.410596    0.678808    3.165563      131.645695   \n",
       "std     87.324109    9.040163    0.467709    0.953612       17.612202   \n",
       "min      1.000000   29.000000    0.000000    1.000000       94.000000   \n",
       "25%     76.250000   48.000000    0.000000    3.000000      120.000000   \n",
       "50%    151.500000   55.500000    1.000000    3.000000      130.000000   \n",
       "75%    226.750000   61.000000    1.000000    4.000000      140.000000   \n",
       "max    302.000000   77.000000    1.000000    4.000000      200.000000   \n",
       "\n",
       "       serum_cholestoral  fasting_blood_sugar  electrocardiographic  \\\n",
       "count         302.000000           302.000000            302.000000   \n",
       "mean          246.738411             0.145695              0.986755   \n",
       "std            51.856829             0.353386              0.994916   \n",
       "min           126.000000             0.000000              0.000000   \n",
       "25%           211.000000             0.000000              0.000000   \n",
       "50%           241.500000             0.000000              0.500000   \n",
       "75%           275.000000             0.000000              2.000000   \n",
       "max           564.000000             1.000000              2.000000   \n",
       "\n",
       "       max_heart_rate  induced_angina  ST_depression       slope   diagnosis  \n",
       "count      302.000000      302.000000     302.000000  302.000000  302.000000  \n",
       "mean       149.605960        0.327815       1.035430    1.596026    0.940397  \n",
       "std         22.912959        0.470196       1.160723    0.611939    1.229384  \n",
       "min         71.000000        0.000000       0.000000    1.000000    0.000000  \n",
       "25%        133.250000        0.000000       0.000000    1.000000    0.000000  \n",
       "50%        153.000000        0.000000       0.800000    2.000000    0.000000  \n",
       "75%        166.000000        1.000000       1.600000    2.000000    2.000000  \n",
       "max        202.000000        1.000000       6.200000    3.000000    4.000000  "
      ]
     },
     "execution_count": 15,
     "metadata": {},
     "output_type": "execute_result"
    }
   ],
   "source": [
    "df.pd.describe()"
   ]
  },
  {
   "cell_type": "code",
   "execution_count": 112,
   "metadata": {
    "scrolled": true
   },
   "outputs": [
    {
     "data": {
      "text/plain": [
       "Text(0.5,1,'Age vs Cholestrol plot')"
      ]
     },
     "execution_count": 112,
     "metadata": {},
     "output_type": "execute_result"
    },
    {
     "data": {
      "image/png": "[encoded data removed]",
      "text/plain": [
       "<Figure size 720x360 with 1 Axes>"
      ]
     },
     "metadata": {},
     "output_type": "display_data"
    }
   ],
   "source": [
    "# get the histogram of every data points\n",
    "fig = plt.figure(figsize = (10,5))\n",
    "plt.scatter(df.pd['age'],df.pd['serum_cholestoral'])\n",
    "plt.xlabel(\"age\")\n",
    "plt.ylabel(\"cholestrol\")\n",
    "plt.title('Age vs Cholestrol plot')\n"
   ]
  },
  {
   "cell_type": "code",
   "execution_count": 115,
   "metadata": {
    "scrolled": true
   },
   "outputs": [
    {
     "data": {
      "image/png": "[encoded data removed]",
      "text/plain": [
       "<Figure size 720x504 with 1 Axes>"
      ]
     },
     "metadata": {},
     "output_type": "display_data"
    }
   ],
   "source": [
    "fig = plt.figure(figsize = (10,7))\n",
    "plt.xlabel(\"age\")\n",
    "plt.ylabel(\"max_heart_rate\")\n",
    "\n",
    "# define title\n",
    "plt.title(\"Relationship between age and max_heart_rate\")\n",
    "\n",
    "# plot\n",
    "plt.scatter(df.pd['age'], df.pd['max_heart_rate'], color = 'green')\n",
    "plt.show()"
   ]
  },
  {
   "cell_type": "code",
   "execution_count": 15,
   "metadata": {},
   "outputs": [
    {
     "data": {
      "text/plain": [
       "Text(0,0.5,'Age')"
      ]
     },
     "execution_count": 15,
     "metadata": {},
     "output_type": "execute_result"
    },
    {
     "data": {
      "image/png": "[encoded data removed]",
      "text/plain": [
       "<Figure size 432x288 with 1 Axes>"
      ]
     },
     "metadata": {},
     "output_type": "display_data"
    }
   ],
   "source": [
    "\n",
    "plt.plot(df.pd['max_heart_rate'],df.pd['age'], 'ro')\n",
    "#plt.yscale('log')\n",
    "plt.xscale('log')\n",
    "plt.xlabel('log(Maximum Heart Rate)')\n",
    "plt.ylabel('Age')"
   ]
  },
  {
   "cell_type": "code",
   "execution_count": 16,
   "metadata": {},
   "outputs": [
    {
     "data": {
      "text/plain": [
       "Text(0,0.5,'log(Blood Pressure)')"
      ]
     },
     "execution_count": 16,
     "metadata": {},
     "output_type": "execute_result"
    },
    {
     "data": {
      "image/png": "[encoded data removed]",
      "text/plain": [
       "<Figure size 432x288 with 1 Axes>"
      ]
     },
     "metadata": {},
     "output_type": "display_data"
    }
   ],
   "source": [
    "plt.plot(df.pd['max_heart_rate'],df.pd['blood_pressure'], 'ro')\n",
    "plt.yscale('log')\n",
    "plt.xscale('log')\n",
    "plt.xlabel('log(Maximum Heart Rate)')\n",
    "plt.ylabel('log(Blood Pressure)')"
   ]
  },
  {
   "cell_type": "code",
   "execution_count": 17,
   "metadata": {},
   "outputs": [
    {
     "name": "stdout",
     "output_type": "stream",
     "text": [
      "+---+-----+\n",
      "|sex|count|\n",
      "+---+-----+\n",
      "|  1|  205|\n",
      "|  0|   97|\n",
      "+---+-----+\n",
      "\n"
     ]
    }
   ],
   "source": [
    "df.groupBy('sex').count().show()"
   ]
  },
  {
   "cell_type": "code",
   "execution_count": 8,
   "metadata": {},
   "outputs": [
    {
     "name": "stdout",
     "output_type": "stream",
     "text": [
      "+---+---------+-----+\n",
      "|sex|diagnosis|count|\n",
      "+---+---------+-----+\n",
      "|  1|        0|   91|\n",
      "|  1|        2|   29|\n",
      "|  1|        1|   46|\n",
      "|  1|        3|   28|\n",
      "|  0|        0|   72|\n",
      "|  1|        4|   11|\n",
      "|  0|        1|    9|\n",
      "|  0|        2|    7|\n",
      "|  0|        3|    7|\n",
      "|  0|        4|    2|\n",
      "+---+---------+-----+\n",
      "\n"
     ]
    }
   ],
   "source": [
    "df.groupBy('sex', 'diagnosis').count().show()"
   ]
  },
  {
   "cell_type": "code",
   "execution_count": 140,
   "metadata": {
    "scrolled": true
   },
   "outputs": [
    {
     "data": {
      "image/png": "[encoded data removed]",
      "text/plain": [
       "<Figure size 720x360 with 1 Axes>"
      ]
     },
     "metadata": {},
     "output_type": "display_data"
    }
   ],
   "source": [
    "plt.figure(figsize = (10,5))\n",
    "plt.xlabel(\"age\")\n",
    "plt.ylabel(\"blood pressure\")\n",
    "\n",
    "# define title\n",
    "plt.title(\"Relationship between age and blood pressure\")\n",
    "\n",
    "# plot\n",
    "plt.scatter(df.pd['age'], df.pd['blood_pressure'])\n",
    "plt.show()"
   ]
  },
  {
   "cell_type": "code",
   "execution_count": 20,
   "metadata": {},
   "outputs": [
    {
     "name": "stdout",
     "output_type": "stream",
     "text": [
      "Minimum age to Maximum age per disease type\n"
     ]
    },
    {
     "data": {
      "text/plain": [
       "diagnosis\n",
       "0    29, 76\n",
       "1    35, 70\n",
       "2    42, 69\n",
       "3    39, 70\n",
       "4    38, 77\n",
       "Name: age, dtype: object"
      ]
     },
     "execution_count": 20,
     "metadata": {},
     "output_type": "execute_result"
    }
   ],
   "source": [
    "print (\"Minimum age to Maximum age per disease type\")\n",
    "\n",
    "df.pd.groupby([\"diagnosis\", ])[\"age\"].min().astype(str) + ', ' +  df.pd.groupby([\"diagnosis\", ])[\"age\"].max().astype(str)"
   ]
  },
  {
   "cell_type": "code",
   "execution_count": 21,
   "metadata": {},
   "outputs": [
    {
     "name": "stdout",
     "output_type": "stream",
     "text": [
      "Mean age per disease type\n"
     ]
    },
    {
     "data": {
      "text/plain": [
       "diagnosis\n",
       "0    52.521472\n",
       "1    55.381818\n",
       "2    58.027778\n",
       "3    56.000000\n",
       "4    59.692308\n",
       "Name: age, dtype: float64"
      ]
     },
     "execution_count": 21,
     "metadata": {},
     "output_type": "execute_result"
    }
   ],
   "source": [
    "print (\"Mean age per disease type\")\n",
    "df.pd.groupby(['diagnosis', ])['age'].mean()"
   ]
  },
  {
   "cell_type": "code",
   "execution_count": 107,
   "metadata": {},
   "outputs": [
    {
     "name": "stdout",
     "output_type": "stream",
     "text": [
      "Count each sex per heart disease type\n"
     ]
    },
    {
     "data": {
      "text/plain": [
       "diagnosis  sex\n",
       "0          0      72\n",
       "           1      91\n",
       "1          0       9\n",
       "           1      46\n",
       "2          0       7\n",
       "           1      29\n",
       "3          0       7\n",
       "           1      28\n",
       "4          0       2\n",
       "           1      11\n",
       "Name: recordid, dtype: int64"
      ]
     },
     "execution_count": 107,
     "metadata": {},
     "output_type": "execute_result"
    }
   ],
   "source": [
    "print (\"Count each sex per heart disease type\")\n",
    "df.pd.groupby(['diagnosis', \"sex\"])['recordid'].count()"
   ]
  },
  {
   "cell_type": "code",
   "execution_count": 108,
   "metadata": {},
   "outputs": [
    {
     "name": "stdout",
     "output_type": "stream",
     "text": [
      "Count each chest pain value per heart disease type\n"
     ]
    },
    {
     "data": {
      "text/plain": [
       "diagnosis  chest_pain\n",
       "0          1             15\n",
       "           2             41\n",
       "           3             68\n",
       "           4             39\n",
       "1          1              5\n",
       "           2              6\n",
       "           3              9\n",
       "           4             35\n",
       "2          1              1\n",
       "           2              1\n",
       "           3              4\n",
       "           4             30\n",
       "3          2              2\n",
       "           3              4\n",
       "           4             29\n",
       "4          1              1\n",
       "           3              1\n",
       "           4             11\n",
       "Name: recordid, dtype: int64"
      ]
     },
     "execution_count": 108,
     "metadata": {},
     "output_type": "execute_result"
    }
   ],
   "source": [
    "print (\"Count each chest pain value per heart disease type\")\n",
    "df.pd.groupby(['diagnosis', 'chest_pain'])['recordid'].count()"
   ]
  },
  {
   "cell_type": "code",
   "execution_count": 24,
   "metadata": {},
   "outputs": [
    {
     "name": "stdout",
     "output_type": "stream",
     "text": [
      "Minimum blood pressure to Maximum  blood pressure per disease type\n"
     ]
    },
    {
     "data": {
      "text/plain": [
       "diagnosis\n",
       "0     94, 180\n",
       "1    108, 192\n",
       "2    100, 180\n",
       "3    100, 200\n",
       "4    112, 165\n",
       "Name: blood_pressure, dtype: object"
      ]
     },
     "execution_count": 24,
     "metadata": {},
     "output_type": "execute_result"
    }
   ],
   "source": [
    "print( \"Minimum blood pressure to Maximum  blood pressure per disease type\")\n",
    "\n",
    "df.pd.groupby(['diagnosis'])['blood_pressure'].min().astype(str) + ', ' +  df.pd.groupby(['diagnosis'])['blood_pressure'].max().astype(str)"
   ]
  },
  {
   "cell_type": "code",
   "execution_count": 25,
   "metadata": {},
   "outputs": [
    {
     "name": "stdout",
     "output_type": "stream",
     "text": [
      "Mean blood pressure per disease type\n"
     ]
    },
    {
     "data": {
      "text/plain": [
       "diagnosis\n",
       "0    129.153374\n",
       "1    133.254545\n",
       "2    134.194444\n",
       "3    135.457143\n",
       "4    138.769231\n",
       "Name: blood_pressure, dtype: float64"
      ]
     },
     "execution_count": 25,
     "metadata": {},
     "output_type": "execute_result"
    }
   ],
   "source": [
    "print (\"Mean blood pressure per disease type\")\n",
    "df.pd.groupby([\"diagnosis\", ])[\"blood_pressure\"].mean()"
   ]
  },
  {
   "cell_type": "code",
   "execution_count": 26,
   "metadata": {},
   "outputs": [
    {
     "name": "stdout",
     "output_type": "stream",
     "text": [
      "Minimum serum_cholestoral to Maximum serum_cholestoral per disease type\n"
     ]
    },
    {
     "data": {
      "text/plain": [
       "diagnosis\n",
       "0    126, 564\n",
       "1    149, 335\n",
       "2    169, 409\n",
       "3    131, 353\n",
       "4    166, 407\n",
       "Name: serum_cholestoral, dtype: object"
      ]
     },
     "execution_count": 26,
     "metadata": {},
     "output_type": "execute_result"
    }
   ],
   "source": [
    "print (\"Minimum serum_cholestoral to Maximum serum_cholestoral per disease type\")\n",
    "\n",
    "df.pd.groupby([\"diagnosis\"])[\"serum_cholestoral\"].min().astype(str) + ', ' +  df.pd.groupby([\"diagnosis\"])[\"serum_cholestoral\"].max().astype(str)"
   ]
  },
  {
   "cell_type": "code",
   "execution_count": 27,
   "metadata": {},
   "outputs": [
    {
     "name": "stdout",
     "output_type": "stream",
     "text": [
      "Mean serum_cholestoral per disease type\n"
     ]
    },
    {
     "data": {
      "text/plain": [
       "diagnosis\n",
       "0    242.699387\n",
       "1    249.109091\n",
       "2    259.277778\n",
       "3    246.457143\n",
       "4    253.384615\n",
       "Name: serum_cholestoral, dtype: float64"
      ]
     },
     "execution_count": 27,
     "metadata": {},
     "output_type": "execute_result"
    }
   ],
   "source": [
    "print (\"Mean serum_cholestoral per disease type\")\n",
    "df.pd.groupby([\"diagnosis\", ])[\"serum_cholestoral\"].mean()"
   ]
  },
  {
   "cell_type": "code",
   "execution_count": 28,
   "metadata": {},
   "outputs": [
    {
     "name": "stdout",
     "output_type": "stream",
     "text": [
      "Count each fasting_blood_sugar per heart disease type\n"
     ]
    },
    {
     "data": {
      "text/plain": [
       "diagnosis  fasting_blood_sugar\n",
       "0          0                      141\n",
       "           1                       22\n",
       "1          0                       51\n",
       "           1                        4\n",
       "2          0                       27\n",
       "           1                        9\n",
       "3          0                       27\n",
       "           1                        8\n",
       "4          0                       12\n",
       "           1                        1\n",
       "Name: age, dtype: int64"
      ]
     },
     "execution_count": 28,
     "metadata": {},
     "output_type": "execute_result"
    }
   ],
   "source": [
    "print (\"Count each fasting_blood_sugar per heart disease type\")\n",
    "df.pd.groupby([\"diagnosis\", \"fasting_blood_sugar\"])[\"age\"].count()"
   ]
  },
  {
   "cell_type": "code",
   "execution_count": 109,
   "metadata": {},
   "outputs": [
    {
     "name": "stdout",
     "output_type": "stream",
     "text": [
      "Count each electrocardiographic per heart disease type\n"
     ]
    },
    {
     "data": {
      "text/plain": [
       "diagnosis  electrocardiographic\n",
       "0          0                       95\n",
       "           1                        1\n",
       "           2                       67\n",
       "1          0                       23\n",
       "           2                       32\n",
       "2          0                       19\n",
       "           1                        1\n",
       "           2                       16\n",
       "3          0                       12\n",
       "           1                        1\n",
       "           2                       22\n",
       "4          0                        2\n",
       "           1                        1\n",
       "           2                       10\n",
       "Name: recordid, dtype: int64"
      ]
     },
     "execution_count": 109,
     "metadata": {},
     "output_type": "execute_result"
    }
   ],
   "source": [
    "print (\"Count each electrocardiographic per heart disease type\")\n",
    "df.pd.groupby([\"diagnosis\", \"electrocardiographic\"])[\"recordid\"].count()\n"
   ]
  },
  {
   "cell_type": "code",
   "execution_count": 30,
   "metadata": {},
   "outputs": [
    {
     "name": "stdout",
     "output_type": "stream",
     "text": [
      "Minimum max_heart_rate to Maximum max_heart_rate per disease type\n"
     ]
    },
    {
     "data": {
      "text/plain": [
       "diagnosis\n",
       "0     96, 202\n",
       "1     88, 195\n",
       "2     71, 170\n",
       "3     90, 173\n",
       "4    114, 182\n",
       "Name: max_heart_rate, dtype: object"
      ]
     },
     "execution_count": 30,
     "metadata": {},
     "output_type": "execute_result"
    }
   ],
   "source": [
    "\n",
    "print (\"Minimum max_heart_rate to Maximum max_heart_rate per disease type\")\n",
    "df.pd.groupby([\"diagnosis\"])[\"max_heart_rate\"].min().astype(str) + ', ' +  df.pd.groupby([\"diagnosis\"])[\"max_heart_rate\"].max().astype(str)\n"
   ]
  },
  {
   "cell_type": "code",
   "execution_count": 31,
   "metadata": {},
   "outputs": [
    {
     "name": "stdout",
     "output_type": "stream",
     "text": [
      "Count  induced_angina per heart disease type\n"
     ]
    },
    {
     "data": {
      "text/plain": [
       "diagnosis  induced_angina\n",
       "0          0                 140\n",
       "           1                  23\n",
       "1          0                  30\n",
       "           1                  25\n",
       "2          0                  14\n",
       "           1                  22\n",
       "3          0                  12\n",
       "           1                  23\n",
       "4          0                   7\n",
       "           1                   6\n",
       "Name: age, dtype: int64"
      ]
     },
     "execution_count": 31,
     "metadata": {},
     "output_type": "execute_result"
    }
   ],
   "source": [
    "print (\"Count  induced_angina per heart disease type\")\n",
    "df.pd.groupby([\"diagnosis\", \"induced_angina\"])[\"age\"].count()"
   ]
  },
  {
   "cell_type": "code",
   "execution_count": 32,
   "metadata": {},
   "outputs": [
    {
     "name": "stdout",
     "output_type": "stream",
     "text": [
      "Count  mean ST_depression per heart disease type\n"
     ]
    },
    {
     "data": {
      "text/plain": [
       "diagnosis\n",
       "0    0.576074\n",
       "1    1.005455\n",
       "2    1.780556\n",
       "3    1.962857\n",
       "4    2.361538\n",
       "Name: ST_depression, dtype: float64"
      ]
     },
     "execution_count": 32,
     "metadata": {},
     "output_type": "execute_result"
    }
   ],
   "source": [
    "print (\"Count  mean ST_depression per heart disease type\")\n",
    "df.pd.groupby([\"diagnosis\"])[\"ST_depression\"].mean()"
   ]
  },
  {
   "cell_type": "code",
   "execution_count": 33,
   "metadata": {},
   "outputs": [
    {
     "name": "stdout",
     "output_type": "stream",
     "text": [
      "Count slope per heart disease type\n"
     ]
    },
    {
     "data": {
      "text/plain": [
       "diagnosis  slope\n",
       "0          1        106\n",
       "           2         49\n",
       "           3          8\n",
       "1          1         22\n",
       "           2         31\n",
       "           3          2\n",
       "2          1          7\n",
       "           2         26\n",
       "           3          3\n",
       "3          1          6\n",
       "           2         24\n",
       "           3          5\n",
       "4          1          1\n",
       "           2         10\n",
       "           3          2\n",
       "Name: age, dtype: int64"
      ]
     },
     "execution_count": 33,
     "metadata": {},
     "output_type": "execute_result"
    }
   ],
   "source": [
    "print (\"Count slope per heart disease type\")\n",
    "df.pd.groupby([\"diagnosis\", \"slope\"])[\"age\"].count()"
   ]
  },
  {
   "cell_type": "code",
   "execution_count": 34,
   "metadata": {},
   "outputs": [
    {
     "name": "stdout",
     "output_type": "stream",
     "text": [
      "root\n",
      " |-- recordid: integer (nullable = true)\n",
      " |-- age: integer (nullable = true)\n",
      " |-- sex: integer (nullable = true)\n",
      " |-- chest_pain: integer (nullable = true)\n",
      " |-- blood_pressure: integer (nullable = true)\n",
      " |-- serum_cholestoral: integer (nullable = true)\n",
      " |-- fasting_blood_sugar: integer (nullable = true)\n",
      " |-- electrocardiographic: integer (nullable = true)\n",
      " |-- max_heart_rate: integer (nullable = true)\n",
      " |-- induced_angina: integer (nullable = true)\n",
      " |-- ST_depression: double (nullable = true)\n",
      " |-- slope: integer (nullable = true)\n",
      " |-- vessels: string (nullable = true)\n",
      " |-- thal: string (nullable = true)\n",
      " |-- diagnosis: integer (nullable = true)\n",
      "\n"
     ]
    }
   ],
   "source": [
    "df.printSchema()\n",
    "#print (\"Count  mean thal per heart disease type\")\n",
    "#df.pd.groupby([\"diagnosis\"])[\"thal\"].mean()"
   ]
  },
  {
   "cell_type": "code",
   "execution_count": 9,
   "metadata": {},
   "outputs": [
    {
     "data": {
      "text/html": [
       "<div>\n",
       "<style scoped>\n",
       "    .dataframe tbody tr th:only-of-type {\n",
       "        vertical-align: middle;\n",
       "    }\n",
       "\n",
       "    .dataframe tbody tr th {\n",
       "        vertical-align: top;\n",
       "    }\n",
       "\n",
       "    .dataframe thead th {\n",
       "        text-align: right;\n",
       "    }\n",
       "</style>\n",
       "<table border=\"1\" class=\"dataframe\">\n",
       "  <thead>\n",
       "    <tr style=\"text-align: right;\">\n",
       "      <th></th>\n",
       "      <th>recordid</th>\n",
       "      <th>age</th>\n",
       "      <th>sex</th>\n",
       "      <th>chest_pain</th>\n",
       "      <th>blood_pressure</th>\n",
       "      <th>serum_cholestoral</th>\n",
       "      <th>fasting_blood_sugar</th>\n",
       "      <th>electrocardiographic</th>\n",
       "      <th>max_heart_rate</th>\n",
       "      <th>induced_angina</th>\n",
       "      <th>ST_depression</th>\n",
       "      <th>slope</th>\n",
       "      <th>vessels</th>\n",
       "      <th>thal</th>\n",
       "      <th>diagnosis</th>\n",
       "    </tr>\n",
       "  </thead>\n",
       "  <tbody>\n",
       "    <tr>\n",
       "      <th>86</th>\n",
       "      <td>87</td>\n",
       "      <td>53</td>\n",
       "      <td>0</td>\n",
       "      <td>3</td>\n",
       "      <td>128</td>\n",
       "      <td>216</td>\n",
       "      <td>0</td>\n",
       "      <td>2</td>\n",
       "      <td>115</td>\n",
       "      <td>0</td>\n",
       "      <td>0.0</td>\n",
       "      <td>1</td>\n",
       "      <td>0.0</td>\n",
       "      <td>?</td>\n",
       "      <td>0</td>\n",
       "    </tr>\n",
       "    <tr>\n",
       "      <th>265</th>\n",
       "      <td>266</td>\n",
       "      <td>52</td>\n",
       "      <td>1</td>\n",
       "      <td>4</td>\n",
       "      <td>128</td>\n",
       "      <td>204</td>\n",
       "      <td>1</td>\n",
       "      <td>0</td>\n",
       "      <td>156</td>\n",
       "      <td>1</td>\n",
       "      <td>1.0</td>\n",
       "      <td>2</td>\n",
       "      <td>0.0</td>\n",
       "      <td>?</td>\n",
       "      <td>2</td>\n",
       "    </tr>\n",
       "  </tbody>\n",
       "</table>\n",
       "</div>"
      ],
      "text/plain": [
       "     recordid  age  sex  chest_pain  blood_pressure  serum_cholestoral  \\\n",
       "86         87   53    0           3             128                216   \n",
       "265       266   52    1           4             128                204   \n",
       "\n",
       "     fasting_blood_sugar  electrocardiographic  max_heart_rate  \\\n",
       "86                     0                     2             115   \n",
       "265                    1                     0             156   \n",
       "\n",
       "     induced_angina  ST_depression  slope vessels thal  diagnosis  \n",
       "86                0            0.0      1     0.0    ?          0  \n",
       "265               1            1.0      2     0.0    ?          2  "
      ]
     },
     "execution_count": 9,
     "metadata": {},
     "output_type": "execute_result"
    }
   ],
   "source": [
    "df.pd.loc[df.pd['thal'] == '?']\n"
   ]
  },
  {
   "cell_type": "code",
   "execution_count": 10,
   "metadata": {},
   "outputs": [
    {
     "data": {
      "text/html": [
       "<div>\n",
       "<style scoped>\n",
       "    .dataframe tbody tr th:only-of-type {\n",
       "        vertical-align: middle;\n",
       "    }\n",
       "\n",
       "    .dataframe tbody tr th {\n",
       "        vertical-align: top;\n",
       "    }\n",
       "\n",
       "    .dataframe thead th {\n",
       "        text-align: right;\n",
       "    }\n",
       "</style>\n",
       "<table border=\"1\" class=\"dataframe\">\n",
       "  <thead>\n",
       "    <tr style=\"text-align: right;\">\n",
       "      <th></th>\n",
       "      <th>recordid</th>\n",
       "      <th>age</th>\n",
       "      <th>sex</th>\n",
       "      <th>chest_pain</th>\n",
       "      <th>blood_pressure</th>\n",
       "      <th>serum_cholestoral</th>\n",
       "      <th>fasting_blood_sugar</th>\n",
       "      <th>electrocardiographic</th>\n",
       "      <th>max_heart_rate</th>\n",
       "      <th>induced_angina</th>\n",
       "      <th>ST_depression</th>\n",
       "      <th>slope</th>\n",
       "      <th>vessels</th>\n",
       "      <th>thal</th>\n",
       "      <th>diagnosis</th>\n",
       "    </tr>\n",
       "  </thead>\n",
       "  <tbody>\n",
       "    <tr>\n",
       "      <th>165</th>\n",
       "      <td>166</td>\n",
       "      <td>52</td>\n",
       "      <td>1</td>\n",
       "      <td>3</td>\n",
       "      <td>138</td>\n",
       "      <td>223</td>\n",
       "      <td>0</td>\n",
       "      <td>0</td>\n",
       "      <td>169</td>\n",
       "      <td>0</td>\n",
       "      <td>0.0</td>\n",
       "      <td>1</td>\n",
       "      <td>?</td>\n",
       "      <td>3.0</td>\n",
       "      <td>0</td>\n",
       "    </tr>\n",
       "    <tr>\n",
       "      <th>191</th>\n",
       "      <td>192</td>\n",
       "      <td>43</td>\n",
       "      <td>1</td>\n",
       "      <td>4</td>\n",
       "      <td>132</td>\n",
       "      <td>247</td>\n",
       "      <td>1</td>\n",
       "      <td>2</td>\n",
       "      <td>143</td>\n",
       "      <td>1</td>\n",
       "      <td>0.1</td>\n",
       "      <td>2</td>\n",
       "      <td>?</td>\n",
       "      <td>7.0</td>\n",
       "      <td>1</td>\n",
       "    </tr>\n",
       "    <tr>\n",
       "      <th>286</th>\n",
       "      <td>287</td>\n",
       "      <td>58</td>\n",
       "      <td>1</td>\n",
       "      <td>2</td>\n",
       "      <td>125</td>\n",
       "      <td>220</td>\n",
       "      <td>0</td>\n",
       "      <td>0</td>\n",
       "      <td>144</td>\n",
       "      <td>0</td>\n",
       "      <td>0.4</td>\n",
       "      <td>2</td>\n",
       "      <td>?</td>\n",
       "      <td>7.0</td>\n",
       "      <td>0</td>\n",
       "    </tr>\n",
       "    <tr>\n",
       "      <th>301</th>\n",
       "      <td>302</td>\n",
       "      <td>38</td>\n",
       "      <td>1</td>\n",
       "      <td>3</td>\n",
       "      <td>138</td>\n",
       "      <td>175</td>\n",
       "      <td>0</td>\n",
       "      <td>0</td>\n",
       "      <td>173</td>\n",
       "      <td>0</td>\n",
       "      <td>0.0</td>\n",
       "      <td>1</td>\n",
       "      <td>?</td>\n",
       "      <td>3.0</td>\n",
       "      <td>0</td>\n",
       "    </tr>\n",
       "  </tbody>\n",
       "</table>\n",
       "</div>"
      ],
      "text/plain": [
       "     recordid  age  sex  chest_pain  blood_pressure  serum_cholestoral  \\\n",
       "165       166   52    1           3             138                223   \n",
       "191       192   43    1           4             132                247   \n",
       "286       287   58    1           2             125                220   \n",
       "301       302   38    1           3             138                175   \n",
       "\n",
       "     fasting_blood_sugar  electrocardiographic  max_heart_rate  \\\n",
       "165                    0                     0             169   \n",
       "191                    1                     2             143   \n",
       "286                    0                     0             144   \n",
       "301                    0                     0             173   \n",
       "\n",
       "     induced_angina  ST_depression  slope vessels thal  diagnosis  \n",
       "165               0            0.0      1       ?  3.0          0  \n",
       "191               1            0.1      2       ?  7.0          1  \n",
       "286               0            0.4      2       ?  7.0          0  \n",
       "301               0            0.0      1       ?  3.0          0  "
      ]
     },
     "execution_count": 10,
     "metadata": {},
     "output_type": "execute_result"
    }
   ],
   "source": [
    "df.pd.loc[df.pd['vessels'] == '?']"
   ]
  },
  {
   "cell_type": "code",
   "execution_count": 11,
   "metadata": {},
   "outputs": [],
   "source": [
    "# Imputing missing values by mean\n",
    "for c in df.pd.columns[:-1]:\n",
    "        df.pd[c] = df.pd[c].apply(lambda x: df.pd[df.pd[c]!='?'][c].astype(float).mean() if x == \"?\" else x)\n",
    "        df.pd[c] = df.pd[c].astype(float)"
   ]
  },
  {
   "cell_type": "code",
   "execution_count": 12,
   "metadata": {},
   "outputs": [
    {
     "data": {
      "text/html": [
       "<div>\n",
       "<style scoped>\n",
       "    .dataframe tbody tr th:only-of-type {\n",
       "        vertical-align: middle;\n",
       "    }\n",
       "\n",
       "    .dataframe tbody tr th {\n",
       "        vertical-align: top;\n",
       "    }\n",
       "\n",
       "    .dataframe thead th {\n",
       "        text-align: right;\n",
       "    }\n",
       "</style>\n",
       "<table border=\"1\" class=\"dataframe\">\n",
       "  <thead>\n",
       "    <tr style=\"text-align: right;\">\n",
       "      <th></th>\n",
       "      <th>recordid</th>\n",
       "      <th>age</th>\n",
       "      <th>sex</th>\n",
       "      <th>chest_pain</th>\n",
       "      <th>blood_pressure</th>\n",
       "      <th>serum_cholestoral</th>\n",
       "      <th>fasting_blood_sugar</th>\n",
       "      <th>electrocardiographic</th>\n",
       "      <th>max_heart_rate</th>\n",
       "      <th>induced_angina</th>\n",
       "      <th>ST_depression</th>\n",
       "      <th>slope</th>\n",
       "      <th>vessels</th>\n",
       "      <th>thal</th>\n",
       "      <th>diagnosis</th>\n",
       "    </tr>\n",
       "  </thead>\n",
       "  <tbody>\n",
       "    <tr>\n",
       "      <th>85</th>\n",
       "      <td>86.0</td>\n",
       "      <td>47.0</td>\n",
       "      <td>1.0</td>\n",
       "      <td>3.0</td>\n",
       "      <td>138.0</td>\n",
       "      <td>257.0</td>\n",
       "      <td>0.0</td>\n",
       "      <td>2.0</td>\n",
       "      <td>156.0</td>\n",
       "      <td>0.0</td>\n",
       "      <td>0.0</td>\n",
       "      <td>1.0</td>\n",
       "      <td>0.0</td>\n",
       "      <td>3.0</td>\n",
       "      <td>0</td>\n",
       "    </tr>\n",
       "    <tr>\n",
       "      <th>164</th>\n",
       "      <td>165.0</td>\n",
       "      <td>57.0</td>\n",
       "      <td>1.0</td>\n",
       "      <td>4.0</td>\n",
       "      <td>132.0</td>\n",
       "      <td>207.0</td>\n",
       "      <td>0.0</td>\n",
       "      <td>0.0</td>\n",
       "      <td>168.0</td>\n",
       "      <td>1.0</td>\n",
       "      <td>0.0</td>\n",
       "      <td>1.0</td>\n",
       "      <td>0.0</td>\n",
       "      <td>7.0</td>\n",
       "      <td>0</td>\n",
       "    </tr>\n",
       "    <tr>\n",
       "      <th>190</th>\n",
       "      <td>191.0</td>\n",
       "      <td>51.0</td>\n",
       "      <td>1.0</td>\n",
       "      <td>4.0</td>\n",
       "      <td>140.0</td>\n",
       "      <td>298.0</td>\n",
       "      <td>0.0</td>\n",
       "      <td>0.0</td>\n",
       "      <td>122.0</td>\n",
       "      <td>1.0</td>\n",
       "      <td>4.2</td>\n",
       "      <td>2.0</td>\n",
       "      <td>3.0</td>\n",
       "      <td>7.0</td>\n",
       "      <td>3</td>\n",
       "    </tr>\n",
       "    <tr>\n",
       "      <th>264</th>\n",
       "      <td>265.0</td>\n",
       "      <td>42.0</td>\n",
       "      <td>1.0</td>\n",
       "      <td>4.0</td>\n",
       "      <td>136.0</td>\n",
       "      <td>315.0</td>\n",
       "      <td>0.0</td>\n",
       "      <td>0.0</td>\n",
       "      <td>125.0</td>\n",
       "      <td>1.0</td>\n",
       "      <td>1.8</td>\n",
       "      <td>2.0</td>\n",
       "      <td>0.0</td>\n",
       "      <td>6.0</td>\n",
       "      <td>2</td>\n",
       "    </tr>\n",
       "    <tr>\n",
       "      <th>285</th>\n",
       "      <td>286.0</td>\n",
       "      <td>58.0</td>\n",
       "      <td>0.0</td>\n",
       "      <td>4.0</td>\n",
       "      <td>170.0</td>\n",
       "      <td>225.0</td>\n",
       "      <td>1.0</td>\n",
       "      <td>2.0</td>\n",
       "      <td>146.0</td>\n",
       "      <td>1.0</td>\n",
       "      <td>2.8</td>\n",
       "      <td>2.0</td>\n",
       "      <td>2.0</td>\n",
       "      <td>6.0</td>\n",
       "      <td>2</td>\n",
       "    </tr>\n",
       "    <tr>\n",
       "      <th>300</th>\n",
       "      <td>301.0</td>\n",
       "      <td>57.0</td>\n",
       "      <td>0.0</td>\n",
       "      <td>2.0</td>\n",
       "      <td>130.0</td>\n",
       "      <td>236.0</td>\n",
       "      <td>0.0</td>\n",
       "      <td>2.0</td>\n",
       "      <td>174.0</td>\n",
       "      <td>0.0</td>\n",
       "      <td>0.0</td>\n",
       "      <td>2.0</td>\n",
       "      <td>1.0</td>\n",
       "      <td>3.0</td>\n",
       "      <td>1</td>\n",
       "    </tr>\n",
       "  </tbody>\n",
       "</table>\n",
       "</div>"
      ],
      "text/plain": [
       "     recordid   age  sex  chest_pain  blood_pressure  serum_cholestoral  \\\n",
       "85       86.0  47.0  1.0         3.0           138.0              257.0   \n",
       "164     165.0  57.0  1.0         4.0           132.0              207.0   \n",
       "190     191.0  51.0  1.0         4.0           140.0              298.0   \n",
       "264     265.0  42.0  1.0         4.0           136.0              315.0   \n",
       "285     286.0  58.0  0.0         4.0           170.0              225.0   \n",
       "300     301.0  57.0  0.0         2.0           130.0              236.0   \n",
       "\n",
       "     fasting_blood_sugar  electrocardiographic  max_heart_rate  \\\n",
       "85                   0.0                   2.0           156.0   \n",
       "164                  0.0                   0.0           168.0   \n",
       "190                  0.0                   0.0           122.0   \n",
       "264                  0.0                   0.0           125.0   \n",
       "285                  1.0                   2.0           146.0   \n",
       "300                  0.0                   2.0           174.0   \n",
       "\n",
       "     induced_angina  ST_depression  slope  vessels  thal  diagnosis  \n",
       "85              0.0            0.0    1.0      0.0   3.0          0  \n",
       "164             1.0            0.0    1.0      0.0   7.0          0  \n",
       "190             1.0            4.2    2.0      3.0   7.0          3  \n",
       "264             1.0            1.8    2.0      0.0   6.0          2  \n",
       "285             1.0            2.8    2.0      2.0   6.0          2  \n",
       "300             0.0            0.0    2.0      1.0   3.0          1  "
      ]
     },
     "execution_count": 12,
     "metadata": {},
     "output_type": "execute_result"
    }
   ],
   "source": [
    "rec = [86,265,165,191,286,301]\n",
    "df.pd.loc[df.pd['recordid'].isin(rec)]\n"
   ]
  },
  {
   "cell_type": "code",
   "execution_count": 13,
   "metadata": {},
   "outputs": [
    {
     "data": {
      "text/html": [
       "<div>\n",
       "<style scoped>\n",
       "    .dataframe tbody tr th:only-of-type {\n",
       "        vertical-align: middle;\n",
       "    }\n",
       "\n",
       "    .dataframe tbody tr th {\n",
       "        vertical-align: top;\n",
       "    }\n",
       "\n",
       "    .dataframe thead th {\n",
       "        text-align: right;\n",
       "    }\n",
       "</style>\n",
       "<table border=\"1\" class=\"dataframe\">\n",
       "  <thead>\n",
       "    <tr style=\"text-align: right;\">\n",
       "      <th></th>\n",
       "      <th>recordid</th>\n",
       "      <th>age</th>\n",
       "      <th>sex</th>\n",
       "      <th>chest_pain</th>\n",
       "      <th>blood_pressure</th>\n",
       "      <th>serum_cholestoral</th>\n",
       "      <th>fasting_blood_sugar</th>\n",
       "      <th>electrocardiographic</th>\n",
       "      <th>max_heart_rate</th>\n",
       "      <th>induced_angina</th>\n",
       "      <th>ST_depression</th>\n",
       "      <th>slope</th>\n",
       "      <th>vessels</th>\n",
       "      <th>thal</th>\n",
       "      <th>diagnosis</th>\n",
       "    </tr>\n",
       "  </thead>\n",
       "  <tbody>\n",
       "    <tr>\n",
       "      <th>151</th>\n",
       "      <td>152.0</td>\n",
       "      <td>67.0</td>\n",
       "      <td>0.0</td>\n",
       "      <td>3.0</td>\n",
       "      <td>115.0</td>\n",
       "      <td>564.0</td>\n",
       "      <td>0.0</td>\n",
       "      <td>2.0</td>\n",
       "      <td>160.0</td>\n",
       "      <td>0.0</td>\n",
       "      <td>1.6</td>\n",
       "      <td>2.0</td>\n",
       "      <td>0.0</td>\n",
       "      <td>7.0</td>\n",
       "      <td>0</td>\n",
       "    </tr>\n",
       "  </tbody>\n",
       "</table>\n",
       "</div>"
      ],
      "text/plain": [
       "     recordid   age  sex  chest_pain  blood_pressure  serum_cholestoral  \\\n",
       "151     152.0  67.0  0.0         3.0           115.0              564.0   \n",
       "\n",
       "     fasting_blood_sugar  electrocardiographic  max_heart_rate  \\\n",
       "151                  0.0                   2.0           160.0   \n",
       "\n",
       "     induced_angina  ST_depression  slope  vessels  thal  diagnosis  \n",
       "151             0.0            1.6    2.0      0.0   7.0          0  "
      ]
     },
     "execution_count": 13,
     "metadata": {},
     "output_type": "execute_result"
    }
   ],
   "source": [
    "df.pd.loc[df.pd['serum_cholestoral']==564]"
   ]
  },
  {
   "cell_type": "code",
   "execution_count": 14,
   "metadata": {},
   "outputs": [],
   "source": [
    "df.pd.loc[df.pd['serum_cholestoral']==564, 'serum_cholestoral'] = 264"
   ]
  },
  {
   "cell_type": "code",
   "execution_count": 15,
   "metadata": {},
   "outputs": [
    {
     "data": {
      "text/html": [
       "<div>\n",
       "<style scoped>\n",
       "    .dataframe tbody tr th:only-of-type {\n",
       "        vertical-align: middle;\n",
       "    }\n",
       "\n",
       "    .dataframe tbody tr th {\n",
       "        vertical-align: top;\n",
       "    }\n",
       "\n",
       "    .dataframe thead th {\n",
       "        text-align: right;\n",
       "    }\n",
       "</style>\n",
       "<table border=\"1\" class=\"dataframe\">\n",
       "  <thead>\n",
       "    <tr style=\"text-align: right;\">\n",
       "      <th></th>\n",
       "      <th>recordid</th>\n",
       "      <th>age</th>\n",
       "      <th>sex</th>\n",
       "      <th>chest_pain</th>\n",
       "      <th>blood_pressure</th>\n",
       "      <th>serum_cholestoral</th>\n",
       "      <th>fasting_blood_sugar</th>\n",
       "      <th>electrocardiographic</th>\n",
       "      <th>max_heart_rate</th>\n",
       "      <th>induced_angina</th>\n",
       "      <th>ST_depression</th>\n",
       "      <th>slope</th>\n",
       "      <th>vessels</th>\n",
       "      <th>thal</th>\n",
       "      <th>diagnosis</th>\n",
       "    </tr>\n",
       "  </thead>\n",
       "  <tbody>\n",
       "    <tr>\n",
       "      <th>151</th>\n",
       "      <td>152.0</td>\n",
       "      <td>67.0</td>\n",
       "      <td>0.0</td>\n",
       "      <td>3.0</td>\n",
       "      <td>115.0</td>\n",
       "      <td>264.0</td>\n",
       "      <td>0.0</td>\n",
       "      <td>2.0</td>\n",
       "      <td>160.0</td>\n",
       "      <td>0.0</td>\n",
       "      <td>1.6</td>\n",
       "      <td>2.0</td>\n",
       "      <td>0.0</td>\n",
       "      <td>7.0</td>\n",
       "      <td>0</td>\n",
       "    </tr>\n",
       "  </tbody>\n",
       "</table>\n",
       "</div>"
      ],
      "text/plain": [
       "     recordid   age  sex  chest_pain  blood_pressure  serum_cholestoral  \\\n",
       "151     152.0  67.0  0.0         3.0           115.0              264.0   \n",
       "\n",
       "     fasting_blood_sugar  electrocardiographic  max_heart_rate  \\\n",
       "151                  0.0                   2.0           160.0   \n",
       "\n",
       "     induced_angina  ST_depression  slope  vessels  thal  diagnosis  \n",
       "151             0.0            1.6    2.0      0.0   7.0          0  "
      ]
     },
     "execution_count": 15,
     "metadata": {},
     "output_type": "execute_result"
    }
   ],
   "source": [
    "df.pd.loc[df.pd['recordid']==152]"
   ]
  },
  {
   "cell_type": "code",
   "execution_count": 39,
   "metadata": {
    "scrolled": true
   },
   "outputs": [
    {
     "name": "stdout",
     "output_type": "stream",
     "text": [
      "Count  mean thal per heart disease type\n"
     ]
    },
    {
     "data": {
      "text/plain": [
       "diagnosis\n",
       "0    3.789755\n",
       "1    5.345455\n",
       "2    5.992500\n",
       "3    6.285714\n",
       "4    6.230769\n",
       "Name: thal, dtype: float64"
      ]
     },
     "execution_count": 39,
     "metadata": {},
     "output_type": "execute_result"
    }
   ],
   "source": [
    "print (\"Count  mean thal per heart disease type\")\n",
    "df.pd.groupby([\"diagnosis\"])[\"thal\"].mean()"
   ]
  },
  {
   "cell_type": "code",
   "execution_count": 16,
   "metadata": {},
   "outputs": [],
   "source": [
    "#map dependent variable y = \"diagnosis\" into binary label\n",
    "# if \"diagnosis\" == 0, member does not have disease A - we put 0\n",
    "# if \"diagnosis\" >= 1, member possess the disease A - we put 1\n",
    "df.pd.loc[:, \"diag_ind\"] = df.pd.loc[:, \"diagnosis\"].apply(lambda x: 1 if x >= 1 else 0)"
   ]
  },
  {
   "cell_type": "code",
   "execution_count": 127,
   "metadata": {},
   "outputs": [
    {
     "data": {
      "image/png": "[encoded data removed]",
      "text/plain": [
       "<Figure size 504x504 with 1 Axes>"
      ]
     },
     "metadata": {},
     "output_type": "display_data"
    }
   ],
   "source": [
    "# get the histogram of every data points\n",
    "plt.figure(figsize = (7,7))\n",
    "df.pd['diag_ind'].hist(bins=5,facecolor='midnightblue')\n",
    "plt.title('Data distribution for disease Indicator')\n",
    "plt.xlim(-1,2)\n",
    "\n",
    "plt.show()"
   ]
  },
  {
   "cell_type": "code",
   "execution_count": 41,
   "metadata": {
    "scrolled": true
   },
   "outputs": [
    {
     "data": {
      "text/html": [
       "<div>\n",
       "<style scoped>\n",
       "    .dataframe tbody tr th:only-of-type {\n",
       "        vertical-align: middle;\n",
       "    }\n",
       "\n",
       "    .dataframe tbody tr th {\n",
       "        vertical-align: top;\n",
       "    }\n",
       "\n",
       "    .dataframe thead th {\n",
       "        text-align: right;\n",
       "    }\n",
       "</style>\n",
       "<table border=\"1\" class=\"dataframe\">\n",
       "  <thead>\n",
       "    <tr style=\"text-align: right;\">\n",
       "      <th></th>\n",
       "      <th>recordid</th>\n",
       "      <th>age</th>\n",
       "      <th>sex</th>\n",
       "      <th>chest_pain</th>\n",
       "      <th>blood_pressure</th>\n",
       "      <th>serum_cholestoral</th>\n",
       "      <th>fasting_blood_sugar</th>\n",
       "      <th>electrocardiographic</th>\n",
       "      <th>max_heart_rate</th>\n",
       "      <th>induced_angina</th>\n",
       "      <th>ST_depression</th>\n",
       "      <th>slope</th>\n",
       "      <th>vessels</th>\n",
       "      <th>thal</th>\n",
       "      <th>diagnosis</th>\n",
       "      <th>diag_ind</th>\n",
       "    </tr>\n",
       "  </thead>\n",
       "  <tbody>\n",
       "    <tr>\n",
       "      <th>0</th>\n",
       "      <td>1.0</td>\n",
       "      <td>67.0</td>\n",
       "      <td>1.0</td>\n",
       "      <td>4.0</td>\n",
       "      <td>160.0</td>\n",
       "      <td>286.0</td>\n",
       "      <td>0.0</td>\n",
       "      <td>2.0</td>\n",
       "      <td>108.0</td>\n",
       "      <td>1.0</td>\n",
       "      <td>1.5</td>\n",
       "      <td>2.0</td>\n",
       "      <td>3.0</td>\n",
       "      <td>3.0</td>\n",
       "      <td>2</td>\n",
       "      <td>1</td>\n",
       "    </tr>\n",
       "    <tr>\n",
       "      <th>1</th>\n",
       "      <td>2.0</td>\n",
       "      <td>67.0</td>\n",
       "      <td>1.0</td>\n",
       "      <td>4.0</td>\n",
       "      <td>120.0</td>\n",
       "      <td>229.0</td>\n",
       "      <td>0.0</td>\n",
       "      <td>2.0</td>\n",
       "      <td>129.0</td>\n",
       "      <td>1.0</td>\n",
       "      <td>2.6</td>\n",
       "      <td>2.0</td>\n",
       "      <td>2.0</td>\n",
       "      <td>7.0</td>\n",
       "      <td>1</td>\n",
       "      <td>1</td>\n",
       "    </tr>\n",
       "    <tr>\n",
       "      <th>2</th>\n",
       "      <td>3.0</td>\n",
       "      <td>37.0</td>\n",
       "      <td>1.0</td>\n",
       "      <td>3.0</td>\n",
       "      <td>130.0</td>\n",
       "      <td>250.0</td>\n",
       "      <td>0.0</td>\n",
       "      <td>0.0</td>\n",
       "      <td>187.0</td>\n",
       "      <td>0.0</td>\n",
       "      <td>3.5</td>\n",
       "      <td>3.0</td>\n",
       "      <td>0.0</td>\n",
       "      <td>3.0</td>\n",
       "      <td>0</td>\n",
       "      <td>0</td>\n",
       "    </tr>\n",
       "    <tr>\n",
       "      <th>3</th>\n",
       "      <td>4.0</td>\n",
       "      <td>41.0</td>\n",
       "      <td>0.0</td>\n",
       "      <td>2.0</td>\n",
       "      <td>130.0</td>\n",
       "      <td>204.0</td>\n",
       "      <td>0.0</td>\n",
       "      <td>2.0</td>\n",
       "      <td>172.0</td>\n",
       "      <td>0.0</td>\n",
       "      <td>1.4</td>\n",
       "      <td>1.0</td>\n",
       "      <td>0.0</td>\n",
       "      <td>3.0</td>\n",
       "      <td>0</td>\n",
       "      <td>0</td>\n",
       "    </tr>\n",
       "    <tr>\n",
       "      <th>4</th>\n",
       "      <td>5.0</td>\n",
       "      <td>56.0</td>\n",
       "      <td>1.0</td>\n",
       "      <td>2.0</td>\n",
       "      <td>120.0</td>\n",
       "      <td>236.0</td>\n",
       "      <td>0.0</td>\n",
       "      <td>0.0</td>\n",
       "      <td>178.0</td>\n",
       "      <td>0.0</td>\n",
       "      <td>0.8</td>\n",
       "      <td>1.0</td>\n",
       "      <td>0.0</td>\n",
       "      <td>3.0</td>\n",
       "      <td>0</td>\n",
       "      <td>0</td>\n",
       "    </tr>\n",
       "  </tbody>\n",
       "</table>\n",
       "</div>"
      ],
      "text/plain": [
       "   recordid   age  sex  chest_pain  blood_pressure  serum_cholestoral  \\\n",
       "0       1.0  67.0  1.0         4.0           160.0              286.0   \n",
       "1       2.0  67.0  1.0         4.0           120.0              229.0   \n",
       "2       3.0  37.0  1.0         3.0           130.0              250.0   \n",
       "3       4.0  41.0  0.0         2.0           130.0              204.0   \n",
       "4       5.0  56.0  1.0         2.0           120.0              236.0   \n",
       "\n",
       "   fasting_blood_sugar  electrocardiographic  max_heart_rate  induced_angina  \\\n",
       "0                  0.0                   2.0           108.0             1.0   \n",
       "1                  0.0                   2.0           129.0             1.0   \n",
       "2                  0.0                   0.0           187.0             0.0   \n",
       "3                  0.0                   2.0           172.0             0.0   \n",
       "4                  0.0                   0.0           178.0             0.0   \n",
       "\n",
       "   ST_depression  slope  vessels  thal  diagnosis  diag_ind  \n",
       "0            1.5    2.0      3.0   3.0          2         1  \n",
       "1            2.6    2.0      2.0   7.0          1         1  \n",
       "2            3.5    3.0      0.0   3.0          0         0  \n",
       "3            1.4    1.0      0.0   3.0          0         0  \n",
       "4            0.8    1.0      0.0   3.0          0         0  "
      ]
     },
     "execution_count": 41,
     "metadata": {},
     "output_type": "execute_result"
    }
   ],
   "source": [
    "df.pd.head()"
   ]
  },
  {
   "cell_type": "code",
   "execution_count": 17,
   "metadata": {},
   "outputs": [],
   "source": [
    "#Convert pandas dataframe into Spark dataframe after data cleaning\n",
    "spark_df = spark.createDataFrame(df.pd)\n"
   ]
  },
  {
   "cell_type": "code",
   "execution_count": 43,
   "metadata": {
    "scrolled": true
   },
   "outputs": [
    {
     "name": "stdout",
     "output_type": "stream",
     "text": [
      "root\n",
      " |-- recordid: double (nullable = true)\n",
      " |-- age: double (nullable = true)\n",
      " |-- sex: double (nullable = true)\n",
      " |-- chest_pain: double (nullable = true)\n",
      " |-- blood_pressure: double (nullable = true)\n",
      " |-- serum_cholestoral: double (nullable = true)\n",
      " |-- fasting_blood_sugar: double (nullable = true)\n",
      " |-- electrocardiographic: double (nullable = true)\n",
      " |-- max_heart_rate: double (nullable = true)\n",
      " |-- induced_angina: double (nullable = true)\n",
      " |-- ST_depression: double (nullable = true)\n",
      " |-- slope: double (nullable = true)\n",
      " |-- vessels: double (nullable = true)\n",
      " |-- thal: double (nullable = true)\n",
      " |-- diagnosis: long (nullable = true)\n",
      " |-- diag_ind: long (nullable = true)\n",
      "\n"
     ]
    }
   ],
   "source": [
    "spark_df.printSchema()"
   ]
  },
  {
   "cell_type": "code",
   "execution_count": 18,
   "metadata": {},
   "outputs": [],
   "source": [
    "from pyspark.ml.feature import (VectorAssembler,VectorIndexer,OneHotEncoder)\n",
    "feature_cols = ['age','sex','chest_pain','blood_pressure','serum_cholestoral','fasting_blood_sugar','electrocardiographic','max_heart_rate','induced_angina','ST_depression','slope','vessels','thal']\n",
    "\n",
    "vec_assembler = VectorAssembler(inputCols=feature_cols, outputCol='feature')\n",
    "\n",
    "final_data = vec_assembler.transform(spark_df)"
   ]
  },
  {
   "cell_type": "code",
   "execution_count": 19,
   "metadata": {},
   "outputs": [
    {
     "name": "stdout",
     "output_type": "stream",
     "text": [
      "root\n",
      " |-- recordid: double (nullable = true)\n",
      " |-- age: double (nullable = true)\n",
      " |-- sex: double (nullable = true)\n",
      " |-- chest_pain: double (nullable = true)\n",
      " |-- blood_pressure: double (nullable = true)\n",
      " |-- serum_cholestoral: double (nullable = true)\n",
      " |-- fasting_blood_sugar: double (nullable = true)\n",
      " |-- electrocardiographic: double (nullable = true)\n",
      " |-- max_heart_rate: double (nullable = true)\n",
      " |-- induced_angina: double (nullable = true)\n",
      " |-- ST_depression: double (nullable = true)\n",
      " |-- slope: double (nullable = true)\n",
      " |-- vessels: double (nullable = true)\n",
      " |-- thal: double (nullable = true)\n",
      " |-- diagnosis: long (nullable = true)\n",
      " |-- diag_ind: long (nullable = true)\n",
      " |-- feature: vector (nullable = true)\n",
      "\n"
     ]
    }
   ],
   "source": [
    "final_data.printSchema()"
   ]
  },
  {
   "cell_type": "code",
   "execution_count": 20,
   "metadata": {},
   "outputs": [],
   "source": [
    "from pyspark.ml.regression import RandomForestRegressor\n",
    "from pyspark.ml.tuning import CrossValidator, ParamGridBuilder\n",
    "from pyspark.ml.evaluation import RegressionEvaluator\n",
    "from pyspark.ml import Pipeline\n",
    "\n",
    "\n",
    "features = ['age','sex','chest_pain','blood_pressure','serum_cholestoral','fasting_blood_sugar','electrocardiographic','max_heart_rate','induced_angina','ST_depression','slope','vessels','thal']\n",
    "lr_data = spark_df.select(spark_df['diag_ind'].alias(\"label\"), *features)  \n",
    "#lr_data.printSchema()\n",
    "vector = VectorAssembler(inputCols=features, outputCol=\"features\")\n",
    "rfr = RandomForestRegressor(labelCol=\"label\", featuresCol=\"features\")\n",
    "\n",
    "\n",
    "stages = [vector, rfr]\n",
    "pipe = Pipeline(stages=stages)\n",
    "\n",
    "\n",
    "estimatorParam = ParamGridBuilder() \\\n",
    ".addGrid(rfr.maxDepth, [4, 6, 8]) \\\n",
    ".addGrid(rfr.maxBins, [5, 10, 20, 40]) \\\n",
    ".addGrid(rfr.impurity, [\"variance\"]) \\\n",
    ".build()\n",
    "\n",
    "evaluator = RegressionEvaluator(labelCol=\"label\", predictionCol=\"prediction\", metricName=\"r2\")\n"
   ]
  },
  {
   "cell_type": "code",
   "execution_count": 21,
   "metadata": {},
   "outputs": [
    {
     "data": {
      "text/html": [
       "<div>\n",
       "<style scoped>\n",
       "    .dataframe tbody tr th:only-of-type {\n",
       "        vertical-align: middle;\n",
       "    }\n",
       "\n",
       "    .dataframe tbody tr th {\n",
       "        vertical-align: top;\n",
       "    }\n",
       "\n",
       "    .dataframe thead th {\n",
       "        text-align: right;\n",
       "    }\n",
       "</style>\n",
       "<table border=\"1\" class=\"dataframe\">\n",
       "  <thead>\n",
       "    <tr style=\"text-align: right;\">\n",
       "      <th></th>\n",
       "      <th>values</th>\n",
       "      <th>features</th>\n",
       "    </tr>\n",
       "  </thead>\n",
       "  <tbody>\n",
       "    <tr>\n",
       "      <th>0</th>\n",
       "      <td>0.073164</td>\n",
       "      <td>age</td>\n",
       "    </tr>\n",
       "    <tr>\n",
       "      <th>1</th>\n",
       "      <td>0.022833</td>\n",
       "      <td>sex</td>\n",
       "    </tr>\n",
       "    <tr>\n",
       "      <th>2</th>\n",
       "      <td>0.134245</td>\n",
       "      <td>chest_pain</td>\n",
       "    </tr>\n",
       "    <tr>\n",
       "      <th>3</th>\n",
       "      <td>0.053647</td>\n",
       "      <td>blood_pressure</td>\n",
       "    </tr>\n",
       "    <tr>\n",
       "      <th>4</th>\n",
       "      <td>0.041027</td>\n",
       "      <td>serum_cholestoral</td>\n",
       "    </tr>\n",
       "    <tr>\n",
       "      <th>5</th>\n",
       "      <td>0.003331</td>\n",
       "      <td>fasting_blood_sugar</td>\n",
       "    </tr>\n",
       "    <tr>\n",
       "      <th>6</th>\n",
       "      <td>0.019713</td>\n",
       "      <td>electrocardiographic</td>\n",
       "    </tr>\n",
       "    <tr>\n",
       "      <th>7</th>\n",
       "      <td>0.100687</td>\n",
       "      <td>max_heart_rate</td>\n",
       "    </tr>\n",
       "    <tr>\n",
       "      <th>8</th>\n",
       "      <td>0.037295</td>\n",
       "      <td>induced_angina</td>\n",
       "    </tr>\n",
       "    <tr>\n",
       "      <th>9</th>\n",
       "      <td>0.089912</td>\n",
       "      <td>ST_depression</td>\n",
       "    </tr>\n",
       "    <tr>\n",
       "      <th>10</th>\n",
       "      <td>0.020451</td>\n",
       "      <td>slope</td>\n",
       "    </tr>\n",
       "    <tr>\n",
       "      <th>11</th>\n",
       "      <td>0.144932</td>\n",
       "      <td>vessels</td>\n",
       "    </tr>\n",
       "    <tr>\n",
       "      <th>12</th>\n",
       "      <td>0.258763</td>\n",
       "      <td>thal</td>\n",
       "    </tr>\n",
       "  </tbody>\n",
       "</table>\n",
       "</div>"
      ],
      "text/plain": [
       "      values              features\n",
       "0   0.073164                   age\n",
       "1   0.022833                   sex\n",
       "2   0.134245            chest_pain\n",
       "3   0.053647        blood_pressure\n",
       "4   0.041027     serum_cholestoral\n",
       "5   0.003331   fasting_blood_sugar\n",
       "6   0.019713  electrocardiographic\n",
       "7   0.100687        max_heart_rate\n",
       "8   0.037295        induced_angina\n",
       "9   0.089912         ST_depression\n",
       "10  0.020451                 slope\n",
       "11  0.144932               vessels\n",
       "12  0.258763                  thal"
      ]
     },
     "execution_count": 21,
     "metadata": {},
     "output_type": "execute_result"
    }
   ],
   "source": [
    "crossval = CrossValidator(estimator=pipe,\n",
    "                         estimatorParamMaps=estimatorParam,\n",
    "                         evaluator=evaluator,\n",
    "                         numFolds=3)\n",
    "\n",
    "cvmodel = crossval.fit(lr_data)\n",
    "\n",
    "model = pd.DataFrame(cvmodel.bestModel.stages[-1].featureImportances.toArray(), columns=[\"values\"])\n",
    "features_col = pd.Series(features)\n",
    "model[\"features\"] = features_col\n",
    "model"
   ]
  },
  {
   "cell_type": "code",
   "execution_count": 22,
   "metadata": {},
   "outputs": [
    {
     "name": "stdout",
     "output_type": "stream",
     "text": [
      "+--------------------+--------------------+\n",
      "|              values|            features|\n",
      "+--------------------+--------------------+\n",
      "| 0.25876341757387106|                thal|\n",
      "|  0.1449315818551519|             vessels|\n",
      "| 0.13424483694632464|          chest_pain|\n",
      "| 0.10068679643476164|      max_heart_rate|\n",
      "| 0.08991204858558483|       ST_depression|\n",
      "| 0.07316419831413289|                 age|\n",
      "|0.053647218678075384|      blood_pressure|\n",
      "| 0.04102722016997071|   serum_cholestoral|\n",
      "| 0.03729484307363302|      induced_angina|\n",
      "| 0.02283331114984992|                 sex|\n",
      "| 0.02045126291431261|               slope|\n",
      "|0.019712718680574916|electrocardiographic|\n",
      "|0.003330545623756335| fasting_blood_sugar|\n",
      "+--------------------+--------------------+\n",
      "\n"
     ]
    }
   ],
   "source": [
    "from pyspark.sql.types import StructType, StructField, DoubleType, StringType\n",
    "\n",
    "new_schema = StructType([\n",
    "  StructField(\"values\", DoubleType(), False),\n",
    "  StructField(\"features\", StringType(), False)\n",
    "])\n",
    "\n",
    "feature_importance = spark.createDataFrame(model, schema=new_schema)\n",
    "feature_importance.orderBy(\"values\", ascending=False).show()"
   ]
  },
  {
   "cell_type": "code",
   "execution_count": 23,
   "metadata": {},
   "outputs": [
    {
     "name": "stdout",
     "output_type": "stream",
     "text": [
      "+--------------------+--------+\n",
      "|             feature|diag_ind|\n",
      "+--------------------+--------+\n",
      "|[67.0,1.0,4.0,160...|       1|\n",
      "|[67.0,1.0,4.0,120...|       1|\n",
      "+--------------------+--------+\n",
      "only showing top 2 rows\n",
      "\n"
     ]
    }
   ],
   "source": [
    "model_ready_data = final_data.select('feature','diag_ind')\n",
    "model_ready_data.show(2)"
   ]
  },
  {
   "cell_type": "code",
   "execution_count": 24,
   "metadata": {},
   "outputs": [
    {
     "name": "stdout",
     "output_type": "stream",
     "text": [
      "Training Dataset Count: 243\n",
      "Test Dataset Count: 59\n"
     ]
    }
   ],
   "source": [
    "# Split our data. Note that the new DataFrame is being used.\n",
    "train_data, test_data = model_ready_data.randomSplit([0.8,0.2])\n",
    "print(\"Training Dataset Count: \" + str(train_data.count()))\n",
    "print(\"Test Dataset Count: \" + str(test_data.count()))\n"
   ]
  },
  {
   "cell_type": "code",
   "execution_count": 175,
   "metadata": {},
   "outputs": [
    {
     "name": "stdout",
     "output_type": "stream",
     "text": [
      "+-------+-------------------+-------------------+\n",
      "|summary|           diag_ind|         prediction|\n",
      "+-------+-------------------+-------------------+\n",
      "|  count|                244|                244|\n",
      "|   mean|0.47540983606557374| 0.4385245901639344|\n",
      "| stddev|  0.500421464410522|0.49722633498178664|\n",
      "|    min|                0.0|                0.0|\n",
      "|    max|                1.0|                1.0|\n",
      "+-------+-------------------+-------------------+\n",
      "\n"
     ]
    }
   ],
   "source": [
    "from pyspark.ml.classification import LogisticRegression\n",
    "# Instantiate the model.\n",
    "lr_model = LogisticRegression(featuresCol='feature',labelCol='diag_ind')\n",
    "\n",
    "# Fit the model.\n",
    "lr_model = lr_model.fit(train_data)\n",
    "\n",
    "#Summary of the model\n",
    "lr_model.summary.predictions.describe().show()\n"
   ]
  },
  {
   "cell_type": "code",
   "execution_count": 176,
   "metadata": {},
   "outputs": [],
   "source": [
    "\n",
    "# And evaluate the model using the test data.\n",
    "results = lr_model.evaluate(test_data)"
   ]
  },
  {
   "cell_type": "code",
   "execution_count": 63,
   "metadata": {},
   "outputs": [
    {
     "name": "stdout",
     "output_type": "stream",
     "text": [
      "+--------------------+--------+--------------------+--------------------+----------+\n",
      "|             feature|diag_ind|       rawPrediction|         probability|prediction|\n",
      "+--------------------+--------+--------------------+--------------------+----------+\n",
      "|(13,[0,2,3,4,7,10...|       0|[4.28655408787105...|[0.98643432558418...|       0.0|\n",
      "|(13,[0,2,3,4,7,10...|       0|[2.94737121920679...|[0.95013909776164...|       0.0|\n",
      "|[35.0,1.0,4.0,126...|       1|[-0.9645107972583...|[0.27597596769714...|       1.0|\n",
      "|[38.0,1.0,3.0,138...|       0|[2.16764005967905...|[0.89730570616825...|       0.0|\n",
      "|[39.0,1.0,3.0,140...|       0|[1.54341796107011...|[0.82396104696367...|       0.0|\n",
      "|[39.0,1.0,4.0,118...|       1|[-0.4546906022062...|[0.38824611385762...|       1.0|\n",
      "|[43.0,1.0,4.0,115...|       0|[0.94253476240326...|[0.71961138314131...|       0.0|\n",
      "|[44.0,0.0,3.0,118...|       0|[1.77937465273832...|[0.85561963101530...|       0.0|\n",
      "|[44.0,1.0,2.0,120...|       0|[3.55975290086259...|[0.97234093295790...|       0.0|\n",
      "|[44.0,1.0,3.0,120...|       0|[2.91562886822026...|[0.94861364211506...|       0.0|\n",
      "|[44.0,1.0,4.0,120...|       1|[-1.7440530844838...|[0.14879884889325...|       1.0|\n",
      "|[45.0,0.0,2.0,130...|       0|[3.18465495832717...|[0.96025271502279...|       0.0|\n",
      "|[45.0,1.0,4.0,115...|       0|[1.89761810128152...|[0.86962170412541...|       0.0|\n",
      "|[46.0,1.0,2.0,101...|       0|[3.18325234289315...|[0.96019914621177...|       0.0|\n",
      "|[48.0,1.0,4.0,122...|       0|[2.03938116697371...|[0.88487023941606...|       0.0|\n",
      "|[49.0,1.0,3.0,118...|       1|[-1.6247192868104...|[0.16455505078175...|       1.0|\n",
      "|[50.0,1.0,3.0,129...|       0|[2.85515456568154...|[0.94558451804104...|       0.0|\n",
      "|[51.0,0.0,3.0,120...|       0|[2.78242653606252...|[0.94171876658738...|       0.0|\n",
      "|[51.0,0.0,3.0,130...|       0|[2.78734016971905...|[0.94198786446398...|       0.0|\n",
      "|[51.0,1.0,3.0,110...|       0|[2.59198897692877...|[0.93034422086662...|       0.0|\n",
      "+--------------------+--------+--------------------+--------------------+----------+\n",
      "only showing top 20 rows\n",
      "\n"
     ]
    }
   ],
   "source": [
    "results.predictions.show()"
   ]
  },
  {
   "cell_type": "code",
   "execution_count": 230,
   "metadata": {},
   "outputs": [
    {
     "name": "stdout",
     "output_type": "stream",
     "text": [
      "+-------+-------------------+-------------------+\n",
      "|summary|           diag_ind|         prediction|\n",
      "+-------+-------------------+-------------------+\n",
      "|  count|                244|                244|\n",
      "|   mean|0.47540983606557374| 0.4385245901639344|\n",
      "| stddev|  0.500421464410522|0.49722633498178664|\n",
      "|    min|                0.0|                0.0|\n",
      "|    max|                1.0|                1.0|\n",
      "+-------+-------------------+-------------------+\n",
      "\n"
     ]
    }
   ],
   "source": [
    "from pyspark.ml.classification import LogisticRegression\n",
    "# Instantiate the model.\n",
    "lr_model = LogisticRegression(featuresCol='feature',labelCol='diag_ind')\n",
    "\n",
    "# Fit the model.\n",
    "lr_model = lr_model.fit(train_data)\n",
    "\n",
    "#Summary of the model\n",
    "lr_model.summary.predictions.describe().show()\n",
    "\n",
    "\n"
   ]
  },
  {
   "cell_type": "code",
   "execution_count": 231,
   "metadata": {},
   "outputs": [
    {
     "data": {
      "text/plain": [
       "0.8496894409937888"
      ]
     },
     "execution_count": 231,
     "metadata": {},
     "output_type": "execute_result"
    }
   ],
   "source": [
    "# And evaluate the model using the test data.\n",
    "results = lr_model.evaluate(test_data)\n",
    "\n",
    "from pyspark.ml.evaluation import BinaryClassificationEvaluator\n",
    "\n",
    "evaluator = BinaryClassificationEvaluator(rawPredictionCol= 'prediction', labelCol='diag_ind')\n",
    "evaluator.evaluate(results.predictions)"
   ]
  },
  {
   "cell_type": "code",
   "execution_count": 232,
   "metadata": {},
   "outputs": [
    {
     "data": {
      "image/png": "[encoded data removed]",
      "text/plain": [
       "<Figure size 432x288 with 1 Axes>"
      ]
     },
     "metadata": {},
     "output_type": "display_data"
    },
    {
     "name": "stdout",
     "output_type": "stream",
     "text": [
      "Area Under the Curve: 0.9253771551724139\n"
     ]
    }
   ],
   "source": [
    "# Let's get a summary of the data.\n",
    "training_summary = lr_model.summary\n",
    "\n",
    "\n",
    "# Convert the DataFrame to a Pandas DataFrame.\n",
    "ROC = training_summary.roc.toPandas()\n",
    "\n",
    "# Plot the true positive and false positive rates.\n",
    "plt.plot(ROC['FPR'],ROC['TPR'])\n",
    "\n",
    "# Define the labels.\n",
    "plt.ylabel('True Positive Rate')\n",
    "plt.xlabel('False Positive Rate')\n",
    "plt.title('ROC Curve')\n",
    "plt.show()\n",
    "\n",
    "# Print the AUC statistic. \n",
    "print('Area Under the Curve: ' + str(training_summary.areaUnderROC))"
   ]
  },
  {
   "cell_type": "code",
   "execution_count": 244,
   "metadata": {},
   "outputs": [
    {
     "data": {
      "image/png": "[encoded data removed]",
      "text/plain": [
       "<Figure size 432x288 with 1 Axes>"
      ]
     },
     "metadata": {},
     "output_type": "display_data"
    }
   ],
   "source": [
    "# Convert DataFrame to Pandas DataFrame.\n",
    "pr = training_summary.pr.toPandas()\n",
    "\n",
    "# Plot model recall and precision.\n",
    "plt.plot(pr['recall'],pr['precision'])\n",
    "\n",
    "# Define the labels and show the graph. \n",
    "plt.ylabel('Precision')\n",
    "plt.xlabel('Recall')\n",
    "\n",
    "plt.show()"
   ]
  },
  {
   "cell_type": "code",
   "execution_count": 245,
   "metadata": {},
   "outputs": [
    {
     "name": "stdout",
     "output_type": "stream",
     "text": [
      "Training Dataset Count: 240\n",
      "Test Dataset Count: 62\n"
     ]
    },
    {
     "data": {
      "text/plain": [
       "0.7729166666666667"
      ]
     },
     "execution_count": 245,
     "metadata": {},
     "output_type": "execute_result"
    }
   ],
   "source": [
    "## Next iteration\n",
    "\n",
    "feature_cols = ['thal','vessels','ST_depression','induced_angina','max_heart_rate','age','blood_pressure','slope','serum_cholestoral']\n",
    "vec_assemblerI2 = VectorAssembler(inputCols=feature_cols, outputCol='feature')\n",
    "final_dataI2 = vec_assemblerI2.transform(spark_df)\n",
    "model_ready_dataI2 = final_dataI2.select('feature','diag_ind')\n",
    "\n",
    "train_dataI2, test_dataI2 = model_ready_dataI2.randomSplit([0.8,0.2])\n",
    "print(\"Training Dataset Count: \" + str(train_dataI2.count()))\n",
    "print(\"Test Dataset Count: \" + str(test_dataI2.count()))\n",
    "\n",
    "lr_modelI2 = LogisticRegression(featuresCol='feature',labelCol='diag_ind', maxIter=12)\n",
    "\n",
    "# Fit the model.\n",
    "lr_modelI2 = lr_modelI2.fit(train_dataI2)\n",
    "\n",
    "resultsI2 = lr_modelI2.evaluate(test_dataI2)\n",
    "\n",
    "evaluatorI2 = BinaryClassificationEvaluator(rawPredictionCol= 'prediction', labelCol='diag_ind')\n",
    "evaluatorI2.evaluate(resultsI2.predictions)"
   ]
  },
  {
   "cell_type": "code",
   "execution_count": 246,
   "metadata": {},
   "outputs": [
    {
     "data": {
      "image/png": "[encoded data removed]",
      "text/plain": [
       "<Figure size 432x288 with 1 Axes>"
      ]
     },
     "metadata": {},
     "output_type": "display_data"
    },
    {
     "name": "stdout",
     "output_type": "stream",
     "text": [
      "Area Under the Curve: 0.90836193010715\n"
     ]
    }
   ],
   "source": [
    "# Let's get a summary of the data.\n",
    "training_summary = lr_modelI2.summary\n",
    "\n",
    "\n",
    "# Convert the DataFrame to a Pandas DataFrame.\n",
    "ROC = training_summary.roc.toPandas()\n",
    "\n",
    "# Plot the true positive and false positive rates.\n",
    "plt.plot(ROC['FPR'],ROC['TPR'])\n",
    "\n",
    "# Define the labels.\n",
    "plt.ylabel('True Positive Rate')\n",
    "plt.xlabel('False Positive Rate')\n",
    "plt.title('ROC Curve')\n",
    "plt.show()\n",
    "\n",
    "# Print the AUC statistic. \n",
    "print('Area Under the Curve: ' + str(training_summary.areaUnderROC))"
   ]
  },
  {
   "cell_type": "code",
   "execution_count": 247,
   "metadata": {},
   "outputs": [
    {
     "data": {
      "image/png": "[encoded data removed]",
      "text/plain": [
       "<Figure size 432x288 with 1 Axes>"
      ]
     },
     "metadata": {},
     "output_type": "display_data"
    }
   ],
   "source": [
    "# Convert DataFrame to Pandas DataFrame.\n",
    "pr = training_summary.pr.toPandas()\n",
    "\n",
    "# Plot model recall and precision.\n",
    "plt.plot(pr['recall'],pr['precision'])\n",
    "\n",
    "# Define the labels and show the graph. \n",
    "plt.ylabel('Precision')\n",
    "plt.xlabel('Recall')\n",
    "plt.show()"
   ]
  },
  {
   "cell_type": "code",
   "execution_count": 26,
   "metadata": {},
   "outputs": [
    {
     "data": {
      "text/plain": [
       "0.7782258064516128"
      ]
     },
     "execution_count": 26,
     "metadata": {},
     "output_type": "execute_result"
    }
   ],
   "source": [
    "from pyspark.ml.classification import LogisticRegression\n",
    "# Instantiate the model.\n",
    "lr_model = LogisticRegression(featuresCol='feature',labelCol='diag_ind',maxIter=50)\n",
    "\n",
    "# Fit the model.\n",
    "lr_model = lr_model.fit(train_data)\n",
    "\n",
    "\n",
    "\n",
    "# And evaluate the model using the test data.\n",
    "results = lr_model.evaluate(test_data)\n",
    "\n",
    "from pyspark.ml.evaluation import BinaryClassificationEvaluator\n",
    "\n",
    "evaluator = BinaryClassificationEvaluator(rawPredictionCol= 'prediction', labelCol='diag_ind')\n",
    "evaluator.evaluate(results.predictions)"
   ]
  },
  {
   "cell_type": "code",
   "execution_count": 28,
   "metadata": {},
   "outputs": [
    {
     "data": {
      "image/png": "[encoded data removed]",
      "text/plain": [
       "<Figure size 432x288 with 1 Axes>"
      ]
     },
     "metadata": {},
     "output_type": "display_data"
    },
    {
     "name": "stdout",
     "output_type": "stream",
     "text": [
      "Area Under the Curve: 0.9340363090363094\n"
     ]
    }
   ],
   "source": [
    "# Let's get a summary of the data.\n",
    "training_summary = lr_model.summary\n",
    "\n",
    "\n",
    "# Convert the DataFrame to a Pandas DataFrame.\n",
    "ROC = training_summary.roc.toPandas()\n",
    "\n",
    "# Plot the true positive and false positive rates.\n",
    "plt.plot(ROC['FPR'],ROC['TPR'])\n",
    "\n",
    "# Define the labels.\n",
    "plt.ylabel('True Positive Rate')\n",
    "plt.xlabel('False Positive Rate')\n",
    "plt.title('ROC Curve')\n",
    "plt.show()\n",
    "\n",
    "\n",
    "# Print the AUC statistic. \n",
    "print('Area Under the Curve: ' + str(training_summary.areaUnderROC))"
   ]
  },
  {
   "cell_type": "code",
   "execution_count": 29,
   "metadata": {},
   "outputs": [
    {
     "data": {
      "image/png": "[encoded data removed]",
      "text/plain": [
       "<Figure size 432x288 with 1 Axes>"
      ]
     },
     "metadata": {},
     "output_type": "display_data"
    }
   ],
   "source": [
    "# Convert DataFrame to Pandas DataFrame.\n",
    "pr = training_summary.pr.toPandas()\n",
    "\n",
    "# Plot model recall and precision.\n",
    "plt.plot(pr['recall'],pr['precision'])\n",
    "\n",
    "# Define the labels and show the graph. \n",
    "plt.ylabel('Precision')\n",
    "plt.xlabel('Recall')\n",
    "plt.show()"
   ]
  },
  {
   "cell_type": "code",
   "execution_count": null,
   "metadata": {},
   "outputs": [],
   "source": []
  }
 ],
 "metadata": {
  "kernelspec": {
   "display_name": "Python 3",
   "language": "python",
   "name": "python3"
  },
  "language_info": {
   "codemirror_mode": {
    "name": "ipython",
    "version": 3
   },
   "file_extension": ".py",
   "mimetype": "text/x-python",
   "name": "python",
   "nbconvert_exporter": "python",
   "pygments_lexer": "ipython3",
   "version": "3.5.2"
  }
 },
 "nbformat": 4,
 "nbformat_minor": 2
}
